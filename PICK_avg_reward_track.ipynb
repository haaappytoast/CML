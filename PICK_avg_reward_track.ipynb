{
 "cells": [
  {
   "cell_type": "code",
   "execution_count": 2,
   "id": "f4332476",
   "metadata": {},
   "outputs": [],
   "source": [
    "import numpy as np\n",
    "import pandas as pd"
   ]
  },
  {
   "cell_type": "code",
   "execution_count": 57,
   "id": "486d767c",
   "metadata": {},
   "outputs": [],
   "source": [
    "count = 2"
   ]
  },
  {
   "cell_type": "markdown",
   "id": "6a34ec4b",
   "metadata": {},
   "source": [
    "# * Data Composition Analysis * "
   ]
  },
  {
   "cell_type": "markdown",
   "id": "758f4dfb",
   "metadata": {},
   "source": [
    "# 1. 1120_pick_REAL+MIX_embedded+16"
   ]
  },
  {
   "cell_type": "code",
   "execution_count": 58,
   "id": "800eebb5",
   "metadata": {},
   "outputs": [
    {
     "name": "stdout",
     "output_type": "stream",
     "text": [
      "(520, 4)\n",
      "(520, 3)\n"
     ]
    }
   ],
   "source": [
    "# 1120_pick_REAL+MIX_embedded+16\n",
    "mu_ckpt_dir = \"1120_pick_REAL+MIX_embedded+16\"\n",
    "mu_eval_dir = \"/eval/1123_TEST012/\"\n",
    "trial = \"trial\" + str(count)\n",
    "mu_reward = np.load(mu_ckpt_dir + mu_eval_dir + trial + \"_avg_reward.npy\", allow_pickle=True)\n",
    "mu_tracking_errors = np.load(mu_ckpt_dir + mu_eval_dir + trial + \"_tracking_errors.npy\", allow_pickle=True)\n",
    "print(mu_reward.shape)\n",
    "print(mu_tracking_errors.shape)"
   ]
  },
  {
   "cell_type": "markdown",
   "id": "b9445251",
   "metadata": {},
   "source": [
    "# 2. 1120_pick_MIX_embedded+16_comparison"
   ]
  },
  {
   "cell_type": "code",
   "execution_count": 59,
   "id": "9957bbe9",
   "metadata": {},
   "outputs": [
    {
     "name": "stdout",
     "output_type": "stream",
     "text": [
      "(520, 4)\n",
      "(520, 3)\n"
     ]
    }
   ],
   "source": [
    "# 1120_pick_MIX_embedded+16_comparison\n",
    "m_ckpt_dir = \"1120_pick_MIX_embedded+16_comparison\"\n",
    "m_eval_dir = \"/eval/1123_TEST012/\"\n",
    "trial = \"trial\" + str(count)\n",
    "m_reward = np.load(m_ckpt_dir + m_eval_dir + trial + \"_avg_reward.npy\", allow_pickle=True)\n",
    "m_tracking_errors = np.load(m_ckpt_dir + m_eval_dir + trial + \"_tracking_errors.npy\", allow_pickle=True)\n",
    "print(m_reward.shape)\n",
    "print(m_tracking_errors.shape)"
   ]
  },
  {
   "cell_type": "markdown",
   "id": "88ba1872",
   "metadata": {},
   "source": [
    "# 3. 1120_pick_REAL_embedded+16_comparison"
   ]
  },
  {
   "cell_type": "code",
   "execution_count": 60,
   "id": "0d06fca6",
   "metadata": {},
   "outputs": [
    {
     "name": "stdout",
     "output_type": "stream",
     "text": [
      "(520, 4)\n",
      "(520, 3)\n"
     ]
    }
   ],
   "source": [
    "# 1120_pick_REAL_embedded+16_comparison\n",
    "u_ckpt_dir = \"1120_pick_REAL_embedded+16_comparison\"\n",
    "u_eval_dir = \"/eval/1123_TEST012/\"\n",
    "trial = \"trial\" + str(count)\n",
    "u_reward = np.load(u_ckpt_dir + u_eval_dir + trial + \"_avg_reward.npy\", allow_pickle=True)\n",
    "u_tracking_errors = np.load(u_ckpt_dir + u_eval_dir + trial + \"_tracking_errors.npy\", allow_pickle=True)\n",
    "print(u_reward.shape)\n",
    "print(u_tracking_errors.shape)"
   ]
  },
  {
   "cell_type": "markdown",
   "id": "c268a601",
   "metadata": {},
   "source": [
    "## 1-1. rewards"
   ]
  },
  {
   "cell_type": "code",
   "execution_count": 61,
   "id": "56939cca",
   "metadata": {},
   "outputs": [],
   "source": [
    "mu_rewards = pd.DataFrame(data=mu_reward)\n",
    "mu_rewards.columns=[\"upper_disc\", \"lower_disc\", \"sparse_sensor_reward\", \"direction_reward\"]\n",
    "#mu_rewards"
   ]
  },
  {
   "cell_type": "code",
   "execution_count": 62,
   "id": "724598f5",
   "metadata": {},
   "outputs": [
    {
     "name": "stdout",
     "output_type": "stream",
     "text": [
      "MIX+REAL\n",
      "0.8056736703102405\n",
      "0.8616993610532238\n",
      "-0.04376245842924198\n",
      "0.37382893725656546\n"
     ]
    }
   ],
   "source": [
    "print(\"MIX+REAL\")\n",
    "print(mu_rewards['sparse_sensor_reward'].mean())\n",
    "print(mu_rewards['direction_reward'].mean())\n",
    "print(mu_rewards['upper_disc'].mean())\n",
    "print(mu_rewards['lower_disc'].mean())"
   ]
  },
  {
   "cell_type": "markdown",
   "id": "c54c7ebb",
   "metadata": {},
   "source": [
    "## 2-1. rewards"
   ]
  },
  {
   "cell_type": "code",
   "execution_count": 63,
   "id": "7a4d50c7",
   "metadata": {},
   "outputs": [],
   "source": [
    "m_reward = pd.DataFrame(data=m_reward)\n",
    "m_reward.columns=[\"upper_disc\", \"lower_disc\", \"sparse_sensor_reward\", \"direction_reward\"]\n",
    "#m_reward"
   ]
  },
  {
   "cell_type": "code",
   "execution_count": 64,
   "id": "eb107df3",
   "metadata": {},
   "outputs": [
    {
     "name": "stdout",
     "output_type": "stream",
     "text": [
      "MIX\n",
      "0.575580182671547\n",
      "0.9214365359682303\n",
      "-0.008159868040372832\n",
      "0.3765283785473842\n"
     ]
    }
   ],
   "source": [
    "print(\"MIX\")\n",
    "print(m_reward['sparse_sensor_reward'].mean())\n",
    "print(m_reward['direction_reward'].mean())\n",
    "print(m_reward['upper_disc'].mean())\n",
    "print(m_reward['lower_disc'].mean())"
   ]
  },
  {
   "cell_type": "markdown",
   "id": "3375cea8",
   "metadata": {},
   "source": [
    "## 3-1. rewards"
   ]
  },
  {
   "cell_type": "code",
   "execution_count": 65,
   "id": "d636453e",
   "metadata": {},
   "outputs": [],
   "source": [
    "u_reward = pd.DataFrame(data=u_reward)\n",
    "u_reward.columns=[\"upper_disc\", \"lower_disc\", \"sparse_sensor_reward\", \"direction_reward\"]\n",
    "#u_reward"
   ]
  },
  {
   "cell_type": "code",
   "execution_count": 66,
   "id": "1ec97996",
   "metadata": {},
   "outputs": [
    {
     "name": "stdout",
     "output_type": "stream",
     "text": [
      "REAL\n",
      "0.8213450979154844\n",
      "0.6364209861315501\n",
      "-0.047545383344941704\n",
      "0.34205575575335667\n"
     ]
    }
   ],
   "source": [
    "print(\"REAL\")\n",
    "print(u_reward['sparse_sensor_reward'].mean())\n",
    "print(u_reward['direction_reward'].mean())\n",
    "print(u_reward['upper_disc'].mean())\n",
    "print(u_reward['lower_disc'].mean())"
   ]
  },
  {
   "cell_type": "markdown",
   "id": "93a87bed",
   "metadata": {},
   "source": [
    "# * Ablation Study: Sparse Sensor *"
   ]
  },
  {
   "cell_type": "code",
   "execution_count": 82,
   "id": "64350950",
   "metadata": {},
   "outputs": [],
   "source": [
    "count = 0\n",
    "import numpy as np\n",
    "import pandas as pd"
   ]
  },
  {
   "cell_type": "markdown",
   "id": "1c7c817d",
   "metadata": {},
   "source": [
    "## 4-1. MIX+REAL tracking_errors"
   ]
  },
  {
   "cell_type": "code",
   "execution_count": 83,
   "id": "483ba6f7",
   "metadata": {},
   "outputs": [
    {
     "name": "stdout",
     "output_type": "stream",
     "text": [
      "(560, 4)\n",
      "(560, 3)\n"
     ]
    },
    {
     "data": {
      "text/html": [
       "<div>\n",
       "<style scoped>\n",
       "    .dataframe tbody tr th:only-of-type {\n",
       "        vertical-align: middle;\n",
       "    }\n",
       "\n",
       "    .dataframe tbody tr th {\n",
       "        vertical-align: top;\n",
       "    }\n",
       "\n",
       "    .dataframe thead th {\n",
       "        text-align: right;\n",
       "    }\n",
       "</style>\n",
       "<table border=\"1\" class=\"dataframe\">\n",
       "  <thead>\n",
       "    <tr style=\"text-align: right;\">\n",
       "      <th></th>\n",
       "      <th>rlcontroller_errors(cm)</th>\n",
       "      <th>headset_errors(cm)</th>\n",
       "      <th>headset_errors(deg)</th>\n",
       "    </tr>\n",
       "  </thead>\n",
       "  <tbody>\n",
       "    <tr>\n",
       "      <th>0</th>\n",
       "      <td>0.498438</td>\n",
       "      <td>0.156795</td>\n",
       "      <td>11.657413</td>\n",
       "    </tr>\n",
       "    <tr>\n",
       "      <th>1</th>\n",
       "      <td>0.450567</td>\n",
       "      <td>0.169637</td>\n",
       "      <td>10.951437</td>\n",
       "    </tr>\n",
       "    <tr>\n",
       "      <th>2</th>\n",
       "      <td>0.254027</td>\n",
       "      <td>0.086799</td>\n",
       "      <td>3.438161</td>\n",
       "    </tr>\n",
       "    <tr>\n",
       "      <th>3</th>\n",
       "      <td>0.124148</td>\n",
       "      <td>0.057396</td>\n",
       "      <td>6.713561</td>\n",
       "    </tr>\n",
       "    <tr>\n",
       "      <th>4</th>\n",
       "      <td>0.073563</td>\n",
       "      <td>0.073111</td>\n",
       "      <td>6.344745</td>\n",
       "    </tr>\n",
       "    <tr>\n",
       "      <th>...</th>\n",
       "      <td>...</td>\n",
       "      <td>...</td>\n",
       "      <td>...</td>\n",
       "    </tr>\n",
       "    <tr>\n",
       "      <th>555</th>\n",
       "      <td>0.017551</td>\n",
       "      <td>0.057127</td>\n",
       "      <td>16.904392</td>\n",
       "    </tr>\n",
       "    <tr>\n",
       "      <th>556</th>\n",
       "      <td>0.019344</td>\n",
       "      <td>0.057388</td>\n",
       "      <td>18.138041</td>\n",
       "    </tr>\n",
       "    <tr>\n",
       "      <th>557</th>\n",
       "      <td>0.021693</td>\n",
       "      <td>0.063863</td>\n",
       "      <td>20.076258</td>\n",
       "    </tr>\n",
       "    <tr>\n",
       "      <th>558</th>\n",
       "      <td>0.021849</td>\n",
       "      <td>0.064566</td>\n",
       "      <td>20.386547</td>\n",
       "    </tr>\n",
       "    <tr>\n",
       "      <th>559</th>\n",
       "      <td>0.026107</td>\n",
       "      <td>0.059369</td>\n",
       "      <td>19.704067</td>\n",
       "    </tr>\n",
       "  </tbody>\n",
       "</table>\n",
       "<p>560 rows × 3 columns</p>\n",
       "</div>"
      ],
      "text/plain": [
       "     rlcontroller_errors(cm)  headset_errors(cm)  headset_errors(deg)\n",
       "0                   0.498438            0.156795            11.657413\n",
       "1                   0.450567            0.169637            10.951437\n",
       "2                   0.254027            0.086799             3.438161\n",
       "3                   0.124148            0.057396             6.713561\n",
       "4                   0.073563            0.073111             6.344745\n",
       "..                       ...                 ...                  ...\n",
       "555                 0.017551            0.057127            16.904392\n",
       "556                 0.019344            0.057388            18.138041\n",
       "557                 0.021693            0.063863            20.076258\n",
       "558                 0.021849            0.064566            20.386547\n",
       "559                 0.026107            0.059369            19.704067\n",
       "\n",
       "[560 rows x 3 columns]"
      ]
     },
     "execution_count": 83,
     "metadata": {},
     "output_type": "execute_result"
    }
   ],
   "source": [
    "# 1120_pick_REAL+MIX_embedded+16\n",
    "mu_ckpt_dir = \"1120_pick_REAL+MIX_embedded+16\"\n",
    "mu_eval_dir = \"/eval/1123_TEST012/\"\n",
    "trial = \"trial\" + str(count)\n",
    "mu_reward = np.load(mu_ckpt_dir + mu_eval_dir + trial + \"_avg_reward.npy\", allow_pickle=True)\n",
    "mu_tracking_errors = np.load(mu_ckpt_dir + mu_eval_dir + trial + \"_tracking_errors.npy\", allow_pickle=True)\n",
    "print(mu_reward.shape)\n",
    "print(mu_tracking_errors.shape)\n",
    "\n",
    "\n",
    "mu_tracking_errors = pd.DataFrame(data=mu_tracking_errors)\n",
    "mu_tracking_errors.columns=[\"rlcontroller_errors(cm)\", \"headset_errors(cm)\", \"headset_errors(deg)\"]\n",
    "mu_tracking_errors"
   ]
  },
  {
   "cell_type": "code",
   "execution_count": 84,
   "id": "3c3c1f25",
   "metadata": {},
   "outputs": [
    {
     "name": "stdout",
     "output_type": "stream",
     "text": [
      "0.060891943849024494\n",
      "0.05748949499601232\n",
      "20.72990474956376\n"
     ]
    }
   ],
   "source": [
    "print(mu_tracking_errors['rlcontroller_errors(cm)'].mean())\n",
    "print(mu_tracking_errors['headset_errors(cm)'].mean())\n",
    "print(abs(mu_tracking_errors['headset_errors(deg)']).mean())"
   ]
  },
  {
   "cell_type": "markdown",
   "id": "ce563327",
   "metadata": {},
   "source": [
    "### Success Ratio"
   ]
  },
  {
   "cell_type": "code",
   "execution_count": 86,
   "id": "0a463679",
   "metadata": {},
   "outputs": [
    {
     "name": "stdout",
     "output_type": "stream",
     "text": [
      "0.8375\n"
     ]
    }
   ],
   "source": [
    "import math\n",
    "failure = np.where(mu_tracking_errors['rlcontroller_errors(cm)'] > 0.08)[0].shape[0]\n",
    "total_frame = mu_tracking_errors.shape[0]\n",
    "print((total_frame - failure)/total_frame)"
   ]
  },
  {
   "cell_type": "code",
   "execution_count": null,
   "id": "e837867d",
   "metadata": {},
   "outputs": [],
   "source": []
  }
 ],
 "metadata": {
  "kernelspec": {
   "display_name": "Python 3 (ipykernel)",
   "language": "python",
   "name": "python3"
  },
  "language_info": {
   "codemirror_mode": {
    "name": "ipython",
    "version": 3
   },
   "file_extension": ".py",
   "mimetype": "text/x-python",
   "name": "python",
   "nbconvert_exporter": "python",
   "pygments_lexer": "ipython3",
   "version": "3.11.3"
  }
 },
 "nbformat": 4,
 "nbformat_minor": 5
}
