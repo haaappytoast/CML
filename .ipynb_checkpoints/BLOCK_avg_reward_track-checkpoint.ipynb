{
 "cells": [
  {
   "cell_type": "code",
   "execution_count": 1,
   "id": "f4332476",
   "metadata": {},
   "outputs": [],
   "source": [
    "import numpy as np\n",
    "import pandas as pd"
   ]
  },
  {
   "cell_type": "code",
   "execution_count": 2,
   "id": "486d767c",
   "metadata": {},
   "outputs": [],
   "source": [
    "count = 0"
   ]
  },
  {
   "cell_type": "markdown",
   "id": "6a34ec4b",
   "metadata": {},
   "source": [
    "# * Data Composition Analysis * "
   ]
  },
  {
   "cell_type": "markdown",
   "id": "758f4dfb",
   "metadata": {},
   "source": [
    "# 1. 1116_block_MIX+REAL_embedded+16"
   ]
  },
  {
   "cell_type": "code",
   "execution_count": 9,
   "id": "800eebb5",
   "metadata": {},
   "outputs": [
    {
     "name": "stdout",
     "output_type": "stream",
     "text": [
      "(450, 4)\n",
      "(450, 3)\n"
     ]
    }
   ],
   "source": [
    "# 1116_block_MIX+REAL_embedded+16\n",
    "mu_ckpt_dir = \"1116_block_MIX+REAL_embedded+16\"\n",
    "mu_eval_dir = \"/eval/\"\n",
    "trial = \"trial\" + str(count)\n",
    "mu_reward = np.load(mu_ckpt_dir + mu_eval_dir + trial + \"_avg_reward.npy\", allow_pickle=True)\n",
    "mu_tracking_errors = np.load(mu_ckpt_dir + mu_eval_dir + trial + \"_tracking_errors.npy\", allow_pickle=True)\n",
    "print(mu_reward.shape)\n",
    "print(mu_tracking_errors.shape)"
   ]
  },
  {
   "cell_type": "markdown",
   "id": "b9445251",
   "metadata": {},
   "source": [
    "# 2. 1116_block_MIX_embedded+16_comparison"
   ]
  },
  {
   "cell_type": "code",
   "execution_count": 132,
   "id": "9957bbe9",
   "metadata": {},
   "outputs": [
    {
     "name": "stdout",
     "output_type": "stream",
     "text": [
      "(450, 4)\n",
      "(450, 3)\n"
     ]
    }
   ],
   "source": [
    "# # 1116_block_MIX_embedded+16_comparison\n",
    "m_ckpt_dir = \"1116_block_MIX_embedded+16_comparison\"\n",
    "m_eval_dir = \"/eval/\"\n",
    "trial = \"trial\" + str(count)\n",
    "m_reward = np.load(m_ckpt_dir + m_eval_dir + trial + \"_avg_reward.npy\", allow_pickle=True)\n",
    "m_tracking_errors = np.load(m_ckpt_dir + m_eval_dir + trial + \"_tracking_errors.npy\", allow_pickle=True)\n",
    "print(m_reward.shape)\n",
    "print(m_tracking_errors.shape)"
   ]
  },
  {
   "cell_type": "markdown",
   "id": "88ba1872",
   "metadata": {},
   "source": [
    "# 3. 1116_block_REAL_embedded+16_comparison"
   ]
  },
  {
   "cell_type": "code",
   "execution_count": 137,
   "id": "0d06fca6",
   "metadata": {},
   "outputs": [
    {
     "name": "stdout",
     "output_type": "stream",
     "text": [
      "(450, 4)\n",
      "(450, 3)\n"
     ]
    }
   ],
   "source": [
    "# 1116_block_REAL_embedded+16_comparison\n",
    "u_ckpt_dir = \"1116_block_REAL_embedded+16_comparison\"\n",
    "u_eval_dir = \"/eval/\"\n",
    "trial = \"trial\" + str(count)\n",
    "u_reward = np.load(u_ckpt_dir + u_eval_dir + trial + \"_avg_reward.npy\", allow_pickle=True)\n",
    "u_tracking_errors = np.load(u_ckpt_dir + u_eval_dir + trial + \"_tracking_errors.npy\", allow_pickle=True)\n",
    "print(u_reward.shape)\n",
    "print(u_tracking_errors.shape)"
   ]
  },
  {
   "cell_type": "markdown",
   "id": "c268a601",
   "metadata": {},
   "source": [
    "## 1-1. rewards"
   ]
  },
  {
   "cell_type": "code",
   "execution_count": 10,
   "id": "56939cca",
   "metadata": {},
   "outputs": [],
   "source": [
    "mu_rewards = pd.DataFrame(data=mu_reward)\n",
    "mu_rewards.columns=[\"upper_disc\", \"lower_disc\", \"sparse_sensor_reward\", \"direction_reward\"]\n",
    "#mu_rewards"
   ]
  },
  {
   "cell_type": "code",
   "execution_count": 11,
   "id": "724598f5",
   "metadata": {},
   "outputs": [
    {
     "name": "stdout",
     "output_type": "stream",
     "text": [
      "0.816882306072447\n",
      "0.7614858122087187\n",
      "-0.10306252921207083\n",
      "0.413750218351682\n"
     ]
    }
   ],
   "source": [
    "print(mu_rewards['sparse_sensor_reward'].mean())\n",
    "print(mu_rewards['direction_reward'].mean())\n",
    "print(mu_rewards['upper_disc'].mean())\n",
    "print(mu_rewards['lower_disc'].mean())"
   ]
  },
  {
   "cell_type": "markdown",
   "id": "c54c7ebb",
   "metadata": {},
   "source": [
    "## 2-1. rewards"
   ]
  },
  {
   "cell_type": "code",
   "execution_count": 133,
   "id": "7a4d50c7",
   "metadata": {},
   "outputs": [],
   "source": [
    "m_reward = pd.DataFrame(data=m_reward)\n",
    "m_reward.columns=[\"upper_disc\", \"lower_disc\", \"sparse_sensor_reward\", \"direction_reward\"]\n",
    "#m_reward"
   ]
  },
  {
   "cell_type": "code",
   "execution_count": 134,
   "id": "eb107df3",
   "metadata": {},
   "outputs": [
    {
     "name": "stdout",
     "output_type": "stream",
     "text": [
      "0.5848488910330667\n",
      "0.8243818721320066\n",
      "0.03706065736917986\n",
      "0.3465064048435953\n"
     ]
    }
   ],
   "source": [
    "print(m_reward['sparse_sensor_reward'].mean())\n",
    "print(m_reward['direction_reward'].mean())\n",
    "print(m_reward['upper_disc'].mean())\n",
    "print(m_reward['lower_disc'].mean())"
   ]
  },
  {
   "cell_type": "markdown",
   "id": "3375cea8",
   "metadata": {},
   "source": [
    "## 3-1. rewards"
   ]
  },
  {
   "cell_type": "code",
   "execution_count": 138,
   "id": "d636453e",
   "metadata": {},
   "outputs": [],
   "source": [
    "u_reward = pd.DataFrame(data=u_reward)\n",
    "u_reward.columns=[\"upper_disc\", \"lower_disc\", \"sparse_sensor_reward\", \"direction_reward\"]\n",
    "#u_reward"
   ]
  },
  {
   "cell_type": "code",
   "execution_count": 139,
   "id": "1ec97996",
   "metadata": {},
   "outputs": [
    {
     "name": "stdout",
     "output_type": "stream",
     "text": [
      "0.8262877959675259\n",
      "0.5306311393066102\n",
      "0.08616536014195945\n",
      "0.31079220412506\n"
     ]
    }
   ],
   "source": [
    "print(u_reward['sparse_sensor_reward'].mean())\n",
    "print(u_reward['direction_reward'].mean())\n",
    "print(u_reward['upper_disc'].mean())\n",
    "print(u_reward['lower_disc'].mean())"
   ]
  },
  {
   "cell_type": "markdown",
   "id": "93a87bed",
   "metadata": {},
   "source": [
    "# * Ablation Study: Sparse Sensor *"
   ]
  },
  {
   "cell_type": "code",
   "execution_count": 2,
   "id": "64350950",
   "metadata": {},
   "outputs": [],
   "source": [
    "count = 0\n",
    "import numpy as np\n",
    "import pandas as pd"
   ]
  },
  {
   "cell_type": "markdown",
   "id": "1c7c817d",
   "metadata": {},
   "source": [
    "## 4-1. MIX+REAL tracking_errors"
   ]
  },
  {
   "cell_type": "code",
   "execution_count": 4,
   "id": "483ba6f7",
   "metadata": {},
   "outputs": [
    {
     "name": "stdout",
     "output_type": "stream",
     "text": [
      "(450, 4)\n",
      "(450, 3)\n"
     ]
    },
    {
     "data": {
      "text/html": [
       "<div>\n",
       "<style scoped>\n",
       "    .dataframe tbody tr th:only-of-type {\n",
       "        vertical-align: middle;\n",
       "    }\n",
       "\n",
       "    .dataframe tbody tr th {\n",
       "        vertical-align: top;\n",
       "    }\n",
       "\n",
       "    .dataframe thead th {\n",
       "        text-align: right;\n",
       "    }\n",
       "</style>\n",
       "<table border=\"1\" class=\"dataframe\">\n",
       "  <thead>\n",
       "    <tr style=\"text-align: right;\">\n",
       "      <th></th>\n",
       "      <th>rlcontroller_errors(cm)</th>\n",
       "      <th>headset_errors(cm)</th>\n",
       "      <th>headset_errors(deg)</th>\n",
       "    </tr>\n",
       "  </thead>\n",
       "  <tbody>\n",
       "    <tr>\n",
       "      <th>0</th>\n",
       "      <td>0.716397</td>\n",
       "      <td>0.102248</td>\n",
       "      <td>8.842046</td>\n",
       "    </tr>\n",
       "    <tr>\n",
       "      <th>1</th>\n",
       "      <td>0.654420</td>\n",
       "      <td>0.134336</td>\n",
       "      <td>12.473804</td>\n",
       "    </tr>\n",
       "    <tr>\n",
       "      <th>2</th>\n",
       "      <td>0.426270</td>\n",
       "      <td>0.062101</td>\n",
       "      <td>5.821880</td>\n",
       "    </tr>\n",
       "    <tr>\n",
       "      <th>3</th>\n",
       "      <td>0.195400</td>\n",
       "      <td>0.046436</td>\n",
       "      <td>10.954157</td>\n",
       "    </tr>\n",
       "    <tr>\n",
       "      <th>4</th>\n",
       "      <td>0.111334</td>\n",
       "      <td>0.039540</td>\n",
       "      <td>6.217582</td>\n",
       "    </tr>\n",
       "    <tr>\n",
       "      <th>...</th>\n",
       "      <td>...</td>\n",
       "      <td>...</td>\n",
       "      <td>...</td>\n",
       "    </tr>\n",
       "    <tr>\n",
       "      <th>445</th>\n",
       "      <td>0.040948</td>\n",
       "      <td>0.080795</td>\n",
       "      <td>-20.976730</td>\n",
       "    </tr>\n",
       "    <tr>\n",
       "      <th>446</th>\n",
       "      <td>0.043039</td>\n",
       "      <td>0.072680</td>\n",
       "      <td>-20.305788</td>\n",
       "    </tr>\n",
       "    <tr>\n",
       "      <th>447</th>\n",
       "      <td>0.041407</td>\n",
       "      <td>0.068550</td>\n",
       "      <td>-18.976578</td>\n",
       "    </tr>\n",
       "    <tr>\n",
       "      <th>448</th>\n",
       "      <td>0.039805</td>\n",
       "      <td>0.067511</td>\n",
       "      <td>-17.101391</td>\n",
       "    </tr>\n",
       "    <tr>\n",
       "      <th>449</th>\n",
       "      <td>0.040361</td>\n",
       "      <td>0.074820</td>\n",
       "      <td>-15.630687</td>\n",
       "    </tr>\n",
       "  </tbody>\n",
       "</table>\n",
       "<p>450 rows × 3 columns</p>\n",
       "</div>"
      ],
      "text/plain": [
       "     rlcontroller_errors(cm)  headset_errors(cm)  headset_errors(deg)\n",
       "0                   0.716397            0.102248             8.842046\n",
       "1                   0.654420            0.134336            12.473804\n",
       "2                   0.426270            0.062101             5.821880\n",
       "3                   0.195400            0.046436            10.954157\n",
       "4                   0.111334            0.039540             6.217582\n",
       "..                       ...                 ...                  ...\n",
       "445                 0.040948            0.080795           -20.976730\n",
       "446                 0.043039            0.072680           -20.305788\n",
       "447                 0.041407            0.068550           -18.976578\n",
       "448                 0.039805            0.067511           -17.101391\n",
       "449                 0.040361            0.074820           -15.630687\n",
       "\n",
       "[450 rows x 3 columns]"
      ]
     },
     "execution_count": 4,
     "metadata": {},
     "output_type": "execute_result"
    }
   ],
   "source": [
    "# 1116_block_MIX+REAL_embedded+16\n",
    "mu_ckpt_dir = \"1116_block_MIX+REAL_embedded+16\"\n",
    "mu_eval_dir = \"/eval/user_outblock_TEST2/\"\n",
    "trial = \"trial\" + str(count)\n",
    "mu_reward = np.load(mu_ckpt_dir + mu_eval_dir + trial + \"_avg_reward.npy\", allow_pickle=True)\n",
    "mu_tracking_errors = np.load(mu_ckpt_dir + mu_eval_dir + trial + \"_tracking_errors.npy\", allow_pickle=True)\n",
    "print(mu_reward.shape)\n",
    "print(mu_tracking_errors.shape)\n",
    "\n",
    "\n",
    "mu_tracking_errors = pd.DataFrame(data=mu_tracking_errors)\n",
    "mu_tracking_errors.columns=[\"rlcontroller_errors(cm)\", \"headset_errors(cm)\", \"headset_errors(deg)\"]\n",
    "mu_tracking_errors"
   ]
  },
  {
   "cell_type": "code",
   "execution_count": 7,
   "id": "3c3c1f25",
   "metadata": {},
   "outputs": [
    {
     "name": "stdout",
     "output_type": "stream",
     "text": [
      "0.04507330658949084\n",
      "0.03413242744385368\n",
      "13.183070975674523\n"
     ]
    }
   ],
   "source": [
    "print(mu_tracking_errors['rlcontroller_errors(cm)'].mean())\n",
    "print(mu_tracking_errors['headset_errors(cm)'].mean())\n",
    "print(abs(mu_tracking_errors['headset_errors(deg)']).mean())"
   ]
  },
  {
   "cell_type": "markdown",
   "id": "ce563327",
   "metadata": {},
   "source": [
    "### Success Ratio"
   ]
  },
  {
   "cell_type": "code",
   "execution_count": 8,
   "id": "0a463679",
   "metadata": {},
   "outputs": [
    {
     "name": "stdout",
     "output_type": "stream",
     "text": [
      "0.8244444444444444\n"
     ]
    }
   ],
   "source": [
    "import math\n",
    "failure = np.where(mu_tracking_errors['rlcontroller_errors(cm)'] > 0.06)[0].shape[0]\n",
    "total_frame = mu_tracking_errors.shape[0]\n",
    "print((total_frame - failure)/total_frame)"
   ]
  },
  {
   "cell_type": "markdown",
   "id": "302c5dc7",
   "metadata": {},
   "source": [
    "## 4-2.  MIX+REAL+Ablation tracking_errors"
   ]
  },
  {
   "cell_type": "code",
   "execution_count": 36,
   "id": "4d746b6a",
   "metadata": {},
   "outputs": [
    {
     "name": "stdout",
     "output_type": "stream",
     "text": [
      "(450, 3)\n",
      "(450, 3)\n"
     ]
    }
   ],
   "source": [
    "# 1116_block_MIX+REAL_ablation\n",
    "ab_ckpt_dir = \"1116_block_MIX+REAL_ablation\"\n",
    "ab_eval_dir = \"/eval/\"\n",
    "trial = \"trial\" + str(count)\n",
    "ab_reward = np.load(ab_ckpt_dir + ab_eval_dir + trial + \"_avg_reward.npy\", allow_pickle=True)\n",
    "ab_tracking_errors = np.load(ab_ckpt_dir + ab_eval_dir + trial + \"_tracking_errors.npy\", allow_pickle=True)\n",
    "print(ab_reward.shape)\n",
    "print(ab_tracking_errors.shape)"
   ]
  },
  {
   "cell_type": "code",
   "execution_count": 37,
   "id": "dfe1ad9a",
   "metadata": {},
   "outputs": [
    {
     "data": {
      "text/html": [
       "<div>\n",
       "<style scoped>\n",
       "    .dataframe tbody tr th:only-of-type {\n",
       "        vertical-align: middle;\n",
       "    }\n",
       "\n",
       "    .dataframe tbody tr th {\n",
       "        vertical-align: top;\n",
       "    }\n",
       "\n",
       "    .dataframe thead th {\n",
       "        text-align: right;\n",
       "    }\n",
       "</style>\n",
       "<table border=\"1\" class=\"dataframe\">\n",
       "  <thead>\n",
       "    <tr style=\"text-align: right;\">\n",
       "      <th></th>\n",
       "      <th>rlcontroller_errors(cm)</th>\n",
       "      <th>headset_errors(cm)</th>\n",
       "      <th>headset_errors(deg)</th>\n",
       "    </tr>\n",
       "  </thead>\n",
       "  <tbody>\n",
       "    <tr>\n",
       "      <th>0</th>\n",
       "      <td>0.522983</td>\n",
       "      <td>0.080914</td>\n",
       "      <td>1.0</td>\n",
       "    </tr>\n",
       "    <tr>\n",
       "      <th>1</th>\n",
       "      <td>0.443160</td>\n",
       "      <td>0.103335</td>\n",
       "      <td>1.0</td>\n",
       "    </tr>\n",
       "    <tr>\n",
       "      <th>2</th>\n",
       "      <td>0.351996</td>\n",
       "      <td>0.108513</td>\n",
       "      <td>1.0</td>\n",
       "    </tr>\n",
       "    <tr>\n",
       "      <th>3</th>\n",
       "      <td>0.260614</td>\n",
       "      <td>0.099636</td>\n",
       "      <td>1.0</td>\n",
       "    </tr>\n",
       "    <tr>\n",
       "      <th>4</th>\n",
       "      <td>0.202579</td>\n",
       "      <td>0.059661</td>\n",
       "      <td>1.0</td>\n",
       "    </tr>\n",
       "    <tr>\n",
       "      <th>...</th>\n",
       "      <td>...</td>\n",
       "      <td>...</td>\n",
       "      <td>...</td>\n",
       "    </tr>\n",
       "    <tr>\n",
       "      <th>445</th>\n",
       "      <td>0.303513</td>\n",
       "      <td>0.091934</td>\n",
       "      <td>1.0</td>\n",
       "    </tr>\n",
       "    <tr>\n",
       "      <th>446</th>\n",
       "      <td>0.344915</td>\n",
       "      <td>0.082028</td>\n",
       "      <td>1.0</td>\n",
       "    </tr>\n",
       "    <tr>\n",
       "      <th>447</th>\n",
       "      <td>0.372599</td>\n",
       "      <td>0.069780</td>\n",
       "      <td>1.0</td>\n",
       "    </tr>\n",
       "    <tr>\n",
       "      <th>448</th>\n",
       "      <td>0.403241</td>\n",
       "      <td>0.057321</td>\n",
       "      <td>1.0</td>\n",
       "    </tr>\n",
       "    <tr>\n",
       "      <th>449</th>\n",
       "      <td>0.439554</td>\n",
       "      <td>0.045921</td>\n",
       "      <td>1.0</td>\n",
       "    </tr>\n",
       "  </tbody>\n",
       "</table>\n",
       "<p>450 rows × 3 columns</p>\n",
       "</div>"
      ],
      "text/plain": [
       "     rlcontroller_errors(cm)  headset_errors(cm)  headset_errors(deg)\n",
       "0                   0.522983            0.080914                  1.0\n",
       "1                   0.443160            0.103335                  1.0\n",
       "2                   0.351996            0.108513                  1.0\n",
       "3                   0.260614            0.099636                  1.0\n",
       "4                   0.202579            0.059661                  1.0\n",
       "..                       ...                 ...                  ...\n",
       "445                 0.303513            0.091934                  1.0\n",
       "446                 0.344915            0.082028                  1.0\n",
       "447                 0.372599            0.069780                  1.0\n",
       "448                 0.403241            0.057321                  1.0\n",
       "449                 0.439554            0.045921                  1.0\n",
       "\n",
       "[450 rows x 3 columns]"
      ]
     },
     "execution_count": 37,
     "metadata": {},
     "output_type": "execute_result"
    }
   ],
   "source": [
    "ab_tracking_errors = pd.DataFrame(data=ab_tracking_errors)\n",
    "ab_tracking_errors.columns=[\"rlcontroller_errors(cm)\", \"headset_errors(cm)\", \"headset_errors(deg)\"]\n",
    "ab_tracking_errors"
   ]
  },
  {
   "cell_type": "code",
   "execution_count": 39,
   "id": "7b98f8bd",
   "metadata": {},
   "outputs": [
    {
     "name": "stdout",
     "output_type": "stream",
     "text": [
      "0.39941179391410614\n",
      "0.09368875399490612\n",
      "0.9999999735090468\n"
     ]
    }
   ],
   "source": [
    "print(ab_tracking_errors['rlcontroller_errors(cm)'].mean())\n",
    "print(ab_tracking_errors['headset_errors(cm)'].mean())\n",
    "print(ab_tracking_errors['headset_errors(deg)'].mean())"
   ]
  },
  {
   "cell_type": "markdown",
   "id": "7bb8f39f",
   "metadata": {},
   "source": [
    "### Success Ratio"
   ]
  },
  {
   "cell_type": "code",
   "execution_count": 1,
   "id": "6d9c7302",
   "metadata": {},
   "outputs": [
    {
     "ename": "NameError",
     "evalue": "name 'np' is not defined",
     "output_type": "error",
     "traceback": [
      "\u001b[0;31m---------------------------------------------------------------------------\u001b[0m",
      "\u001b[0;31mNameError\u001b[0m                                 Traceback (most recent call last)",
      "Cell \u001b[0;32mIn[1], line 1\u001b[0m\n\u001b[0;32m----> 1\u001b[0m failure \u001b[38;5;241m=\u001b[39m np\u001b[38;5;241m.\u001b[39mwhere(ab_tracking_errors[\u001b[38;5;124m'\u001b[39m\u001b[38;5;124mrlcontroller_errors(cm)\u001b[39m\u001b[38;5;124m'\u001b[39m] \u001b[38;5;241m>\u001b[39m \u001b[38;5;241m0.3\u001b[39m)[\u001b[38;5;241m0\u001b[39m]\u001b[38;5;241m.\u001b[39mshape[\u001b[38;5;241m0\u001b[39m]\n\u001b[1;32m      2\u001b[0m total_frame \u001b[38;5;241m=\u001b[39m ab_tracking_errors\u001b[38;5;241m.\u001b[39mshape[\u001b[38;5;241m0\u001b[39m]\n\u001b[1;32m      3\u001b[0m \u001b[38;5;28mprint\u001b[39m((total_frame \u001b[38;5;241m-\u001b[39m failure)\u001b[38;5;241m/\u001b[39mtotal_frame)\n",
      "\u001b[0;31mNameError\u001b[0m: name 'np' is not defined"
     ]
    }
   ],
   "source": [
    "failure = np.where(ab_tracking_errors['rlcontroller_errors(cm)'] > 0.3)[0].shape[0]\n",
    "total_frame = ab_tracking_errors.shape[0]\n",
    "print((total_frame - failure)/total_frame)"
   ]
  },
  {
   "cell_type": "code",
   "execution_count": null,
   "id": "e837867d",
   "metadata": {},
   "outputs": [],
   "source": []
  }
 ],
 "metadata": {
  "kernelspec": {
   "display_name": "Python 3 (ipykernel)",
   "language": "python",
   "name": "python3"
  },
  "language_info": {
   "codemirror_mode": {
    "name": "ipython",
    "version": 3
   },
   "file_extension": ".py",
   "mimetype": "text/x-python",
   "name": "python",
   "nbconvert_exporter": "python",
   "pygments_lexer": "ipython3",
   "version": "3.11.3"
  }
 },
 "nbformat": 4,
 "nbformat_minor": 5
}
