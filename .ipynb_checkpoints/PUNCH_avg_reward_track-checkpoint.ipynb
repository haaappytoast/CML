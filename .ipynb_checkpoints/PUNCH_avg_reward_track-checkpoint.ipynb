{
 "cells": [
  {
   "cell_type": "code",
   "execution_count": 2,
   "id": "f4332476",
   "metadata": {},
   "outputs": [],
   "source": [
    "import numpy as np\n",
    "import pandas as pd"
   ]
  },
  {
   "cell_type": "code",
   "execution_count": 57,
   "id": "486d767c",
   "metadata": {},
   "outputs": [],
   "source": [
    "count = 2"
   ]
  },
  {
   "cell_type": "markdown",
   "id": "6a34ec4b",
   "metadata": {},
   "source": [
    "# * Data Composition Analysis * "
   ]
  },
  {
   "cell_type": "markdown",
   "id": "758f4dfb",
   "metadata": {},
   "source": [
    "# 1. 1120_pick_REAL+MIX_embedded+16"
   ]
  },
  {
   "cell_type": "code",
   "execution_count": 58,
   "id": "800eebb5",
   "metadata": {},
   "outputs": [
    {
     "name": "stdout",
     "output_type": "stream",
     "text": [
      "(520, 4)\n",
      "(520, 3)\n"
     ]
    }
   ],
   "source": [
    "# 1120_pick_REAL+MIX_embedded+16\n",
    "mu_ckpt_dir = \"1120_pick_REAL+MIX_embedded+16\"\n",
    "mu_eval_dir = \"/eval/1123_TEST012/\"\n",
    "trial = \"trial\" + str(count)\n",
    "mu_reward = np.load(mu_ckpt_dir + mu_eval_dir + trial + \"_avg_reward.npy\", allow_pickle=True)\n",
    "mu_tracking_errors = np.load(mu_ckpt_dir + mu_eval_dir + trial + \"_tracking_errors.npy\", allow_pickle=True)\n",
    "print(mu_reward.shape)\n",
    "print(mu_tracking_errors.shape)"
   ]
  },
  {
   "cell_type": "markdown",
   "id": "b9445251",
   "metadata": {},
   "source": [
    "# 2. 1120_pick_MIX_embedded+16_comparison"
   ]
  },
  {
   "cell_type": "code",
   "execution_count": 59,
   "id": "9957bbe9",
   "metadata": {},
   "outputs": [
    {
     "name": "stdout",
     "output_type": "stream",
     "text": [
      "(520, 4)\n",
      "(520, 3)\n"
     ]
    }
   ],
   "source": [
    "# 1120_pick_MIX_embedded+16_comparison\n",
    "m_ckpt_dir = \"1120_pick_MIX_embedded+16_comparison\"\n",
    "m_eval_dir = \"/eval/1123_TEST012/\"\n",
    "trial = \"trial\" + str(count)\n",
    "m_reward = np.load(m_ckpt_dir + m_eval_dir + trial + \"_avg_reward.npy\", allow_pickle=True)\n",
    "m_tracking_errors = np.load(m_ckpt_dir + m_eval_dir + trial + \"_tracking_errors.npy\", allow_pickle=True)\n",
    "print(m_reward.shape)\n",
    "print(m_tracking_errors.shape)"
   ]
  },
  {
   "cell_type": "markdown",
   "id": "88ba1872",
   "metadata": {},
   "source": [
    "# 3. 1120_pick_REAL_embedded+16_comparison"
   ]
  },
  {
   "cell_type": "code",
   "execution_count": 60,
   "id": "0d06fca6",
   "metadata": {},
   "outputs": [
    {
     "name": "stdout",
     "output_type": "stream",
     "text": [
      "(520, 4)\n",
      "(520, 3)\n"
     ]
    }
   ],
   "source": [
    "# 1120_pick_REAL_embedded+16_comparison\n",
    "u_ckpt_dir = \"1120_pick_REAL_embedded+16_comparison\"\n",
    "u_eval_dir = \"/eval/1123_TEST012/\"\n",
    "trial = \"trial\" + str(count)\n",
    "u_reward = np.load(u_ckpt_dir + u_eval_dir + trial + \"_avg_reward.npy\", allow_pickle=True)\n",
    "u_tracking_errors = np.load(u_ckpt_dir + u_eval_dir + trial + \"_tracking_errors.npy\", allow_pickle=True)\n",
    "print(u_reward.shape)\n",
    "print(u_tracking_errors.shape)"
   ]
  },
  {
   "cell_type": "markdown",
   "id": "c268a601",
   "metadata": {},
   "source": [
    "## 1-1. rewards"
   ]
  },
  {
   "cell_type": "code",
   "execution_count": 61,
   "id": "56939cca",
   "metadata": {},
   "outputs": [],
   "source": [
    "mu_rewards = pd.DataFrame(data=mu_reward)\n",
    "mu_rewards.columns=[\"upper_disc\", \"lower_disc\", \"sparse_sensor_reward\", \"direction_reward\"]\n",
    "#mu_rewards"
   ]
  },
  {
   "cell_type": "code",
   "execution_count": 62,
   "id": "724598f5",
   "metadata": {},
   "outputs": [
    {
     "name": "stdout",
     "output_type": "stream",
     "text": [
      "MIX+REAL\n",
      "0.8056736703102405\n",
      "0.8616993610532238\n",
      "-0.04376245842924198\n",
      "0.37382893725656546\n"
     ]
    }
   ],
   "source": [
    "print(\"MIX+REAL\")\n",
    "print(mu_rewards['sparse_sensor_reward'].mean())\n",
    "print(mu_rewards['direction_reward'].mean())\n",
    "print(mu_rewards['upper_disc'].mean())\n",
    "print(mu_rewards['lower_disc'].mean())"
   ]
  },
  {
   "cell_type": "markdown",
   "id": "c54c7ebb",
   "metadata": {},
   "source": [
    "## 2-1. rewards"
   ]
  },
  {
   "cell_type": "code",
   "execution_count": 63,
   "id": "7a4d50c7",
   "metadata": {},
   "outputs": [],
   "source": [
    "m_reward = pd.DataFrame(data=m_reward)\n",
    "m_reward.columns=[\"upper_disc\", \"lower_disc\", \"sparse_sensor_reward\", \"direction_reward\"]\n",
    "#m_reward"
   ]
  },
  {
   "cell_type": "code",
   "execution_count": 64,
   "id": "eb107df3",
   "metadata": {},
   "outputs": [
    {
     "name": "stdout",
     "output_type": "stream",
     "text": [
      "MIX\n",
      "0.575580182671547\n",
      "0.9214365359682303\n",
      "-0.008159868040372832\n",
      "0.3765283785473842\n"
     ]
    }
   ],
   "source": [
    "print(\"MIX\")\n",
    "print(m_reward['sparse_sensor_reward'].mean())\n",
    "print(m_reward['direction_reward'].mean())\n",
    "print(m_reward['upper_disc'].mean())\n",
    "print(m_reward['lower_disc'].mean())"
   ]
  },
  {
   "cell_type": "markdown",
   "id": "3375cea8",
   "metadata": {},
   "source": [
    "## 3-1. rewards"
   ]
  },
  {
   "cell_type": "code",
   "execution_count": 65,
   "id": "d636453e",
   "metadata": {},
   "outputs": [],
   "source": [
    "u_reward = pd.DataFrame(data=u_reward)\n",
    "u_reward.columns=[\"upper_disc\", \"lower_disc\", \"sparse_sensor_reward\", \"direction_reward\"]\n",
    "#u_reward"
   ]
  },
  {
   "cell_type": "code",
   "execution_count": 66,
   "id": "1ec97996",
   "metadata": {},
   "outputs": [
    {
     "name": "stdout",
     "output_type": "stream",
     "text": [
      "REAL\n",
      "0.8213450979154844\n",
      "0.6364209861315501\n",
      "-0.047545383344941704\n",
      "0.34205575575335667\n"
     ]
    }
   ],
   "source": [
    "print(\"REAL\")\n",
    "print(u_reward['sparse_sensor_reward'].mean())\n",
    "print(u_reward['direction_reward'].mean())\n",
    "print(u_reward['upper_disc'].mean())\n",
    "print(u_reward['lower_disc'].mean())"
   ]
  },
  {
   "cell_type": "markdown",
   "id": "93a87bed",
   "metadata": {},
   "source": [
    "# * Ablation Study: Sparse Sensor *"
   ]
  },
  {
   "cell_type": "code",
   "execution_count": 44,
   "id": "64350950",
   "metadata": {},
   "outputs": [],
   "source": [
    "count = 5\n",
    "import numpy as np\n",
    "import pandas as pd"
   ]
  },
  {
   "cell_type": "markdown",
   "id": "1c7c817d",
   "metadata": {},
   "source": [
    "## 4-1. Tracking_errors (0.35, 0.15)"
   ]
  },
  {
   "cell_type": "code",
   "execution_count": 45,
   "id": "483ba6f7",
   "metadata": {},
   "outputs": [
    {
     "name": "stdout",
     "output_type": "stream",
     "text": [
      "(384, 4)\n",
      "(384, 3)\n",
      "sparse_sensor_reward:  0.8296092837117612\n",
      "direction_reward:  0.9223709194920957\n",
      "m1_tracking_errors:       rlcontroller_errors(cm)  headset_errors(cm)  headset_errors(deg)\n",
      "0                   0.490395            0.093446            23.623390\n",
      "1                   0.300033            0.074867            18.285900\n",
      "2                   0.225138            0.077211            16.005562\n",
      "3                   0.209729            0.092463            14.098195\n",
      "4                   0.200445            0.111266            13.861570\n",
      "..                       ...                 ...                  ...\n",
      "379                 0.044793            0.014748            10.589298\n",
      "380                 0.049277            0.019754            11.305342\n",
      "381                 0.057134            0.026008            12.003571\n",
      "382                 0.063766            0.033942            12.578176\n",
      "383                 0.068550            0.042393            12.541959\n",
      "\n",
      "[384 rows x 3 columns]\n",
      "\n",
      "rlcontroller_errors(cm):  0.07429050924595988\n",
      "headset_errors(cm):  0.047451247150699295\n",
      "headset_errors(deg):  8.60624788623924\n",
      "\n",
      "success ratio:  0.859375\n"
     ]
    }
   ],
   "source": [
    "# 1125_punch_REAL+MIX035015\n",
    "m1_ckpt_dir = \"1125_punch_REAL+MIX035015\"\n",
    "m1_eval_dir = \"/eval/TEST/\"\n",
    "trial = \"trial\" + str(count)\n",
    "m1_reward = np.load(m1_ckpt_dir + m1_eval_dir + trial + \"_avg_reward.npy\", allow_pickle=True)\n",
    "m1_tracking_errors = np.load(m1_ckpt_dir + m1_eval_dir + trial + \"_tracking_errors.npy\", allow_pickle=True)\n",
    "print(m1_reward.shape)\n",
    "print(m1_tracking_errors.shape)\n",
    "\n",
    "m1_reward = pd.DataFrame(data=m1_reward)\n",
    "m1_reward.columns=[\"upper_disc\", \"lower_disc\", \"sparse_sensor_reward\", \"direction_reward\"]\n",
    "print(\"sparse_sensor_reward: \", m1_reward['sparse_sensor_reward'].mean())\n",
    "print(\"direction_reward: \", m1_reward['direction_reward'].mean())\n",
    "\n",
    "m1_tracking_errors = pd.DataFrame(data=m1_tracking_errors)\n",
    "m1_tracking_errors.columns=[\"rlcontroller_errors(cm)\", \"headset_errors(cm)\", \"headset_errors(deg)\"]\n",
    "print(\"m1_tracking_errors: \", m1_tracking_errors)\n",
    "\n",
    "print(\"\\nrlcontroller_errors(cm): \", m1_tracking_errors['rlcontroller_errors(cm)'].mean())\n",
    "print(\"headset_errors(cm): \",m1_tracking_errors['headset_errors(cm)'].mean())\n",
    "print(\"headset_errors(deg): \",abs(m1_tracking_errors['headset_errors(deg)']).mean())\n",
    "\n",
    "import math\n",
    "failure = np.where(m1_tracking_errors['rlcontroller_errors(cm)'] > 0.15)[0].shape[0]\n",
    "total_frame = m1_tracking_errors.shape[0]\n",
    "print(\"\\nsuccess ratio: \", (total_frame - failure)/total_frame)"
   ]
  },
  {
   "cell_type": "markdown",
   "id": "378915f9",
   "metadata": {},
   "source": [
    "## 4-2. Tracking_errors (0.3, 0.2)"
   ]
  },
  {
   "cell_type": "code",
   "execution_count": 46,
   "id": "cb70136a",
   "metadata": {},
   "outputs": [
    {
     "name": "stdout",
     "output_type": "stream",
     "text": [
      "(384, 4)\n",
      "(384, 3)\n",
      "     rlcontroller_errors(cm)  headset_errors(cm)  headset_errors(deg)\n",
      "0                   0.504507            0.078922            21.604715\n",
      "1                   0.319455            0.040706            12.623298\n",
      "2                   0.245949            0.040759            12.043874\n",
      "3                   0.248728            0.045911            13.050562\n",
      "4                   0.253049            0.056869            14.335422\n",
      "..                       ...                 ...                  ...\n",
      "379                 0.045464            0.035787            15.652634\n",
      "380                 0.051532            0.044786            17.135862\n",
      "381                 0.055278            0.052698            18.045509\n",
      "382                 0.054722            0.060481            18.276999\n",
      "383                 0.051844            0.065641            17.579676\n",
      "\n",
      "[384 rows x 3 columns]\n",
      "\n",
      "sparse_sensor_reward:  0.7892559858349463\n",
      "direction_reward:  0.7320245612229428\n",
      "\n",
      "rlcontroller_errors(cm):  0.09346815534324075\n",
      "headset_errors(cm):  0.055292934136862947\n",
      "headset_errors(deg):  13.637781861859063\n",
      "\n",
      "success ratio:  0.8072916666666666\n"
     ]
    }
   ],
   "source": [
    "# 1125_punch_REAL+MIX0302\n",
    "m2_ckpt_dir = \"1125_punch_REAL+MIX0302\"\n",
    "m2_eval_dir = \"/eval/TEST/\"\n",
    "trial = \"trial\" + str(count)\n",
    "m2_reward = np.load(m2_ckpt_dir + m2_eval_dir + trial + \"_avg_reward.npy\", allow_pickle=True)\n",
    "m2_tracking_errors = np.load(m2_ckpt_dir + m2_eval_dir + trial + \"_tracking_errors.npy\", allow_pickle=True)\n",
    "print(m2_reward.shape)\n",
    "print(m2_tracking_errors.shape)\n",
    "\n",
    "m2_tracking_errors = pd.DataFrame(data=m2_tracking_errors)\n",
    "m2_tracking_errors.columns=[\"rlcontroller_errors(cm)\", \"headset_errors(cm)\", \"headset_errors(deg)\"]\n",
    "print(m2_tracking_errors)\n",
    "\n",
    "\n",
    "m2_reward = pd.DataFrame(data=m2_reward)\n",
    "m2_reward.columns=[\"upper_disc\", \"lower_disc\", \"sparse_sensor_reward\", \"direction_reward\"]\n",
    "print(\"\\nsparse_sensor_reward: \", m2_reward['sparse_sensor_reward'].mean())\n",
    "print(\"direction_reward: \", m2_reward['direction_reward'].mean())\n",
    "\n",
    "\n",
    "print(\"\\nrlcontroller_errors(cm): \", m2_tracking_errors['rlcontroller_errors(cm)'].mean())\n",
    "print(\"headset_errors(cm): \",m2_tracking_errors['headset_errors(cm)'].mean())\n",
    "print(\"headset_errors(deg): \",abs(m2_tracking_errors['headset_errors(deg)']).mean())\n",
    "\n",
    "import math\n",
    "failure = np.where(m2_tracking_errors['rlcontroller_errors(cm)'] >  0.15)[0].shape[0]\n",
    "total_frame = m2_tracking_errors.shape[0]\n",
    "print(\"\\nsuccess ratio: \", (total_frame - failure)/total_frame)"
   ]
  },
  {
   "cell_type": "markdown",
   "id": "186db06d",
   "metadata": {},
   "source": [
    "## 4-3. Tracking_errors (0.25, 0.25)"
   ]
  },
  {
   "cell_type": "code",
   "execution_count": 47,
   "id": "deb9424e",
   "metadata": {},
   "outputs": [
    {
     "name": "stdout",
     "output_type": "stream",
     "text": [
      "(384, 4)\n",
      "(384, 3)\n",
      "     rlcontroller_errors(cm)  headset_errors(cm)  headset_errors(deg)\n",
      "0                   0.487735            0.092419            23.102602\n",
      "1                   0.297790            0.068959            17.192890\n",
      "2                   0.255821            0.072447            17.327169\n",
      "3                   0.263352            0.081668            17.586601\n",
      "4                   0.269305            0.092514            18.283363\n",
      "..                       ...                 ...                  ...\n",
      "379                 0.040774            0.009072             4.563295\n",
      "380                 0.037867            0.008182             5.254674\n",
      "381                 0.041735            0.007270             5.723541\n",
      "382                 0.048337            0.010516             6.867638\n",
      "383                 0.053468            0.018170             7.997410\n",
      "\n",
      "[384 rows x 3 columns]\n",
      "\n",
      "sparse_sensor_reward:  0.7841787881528338\n",
      "direction_reward:  0.9680496708800396\n",
      "\n",
      "rlcontroller_errors(cm):  0.1054432012703425\n",
      "headset_errors(cm):  0.04958105602387756\n",
      "headset_errors(deg):  10.063430125204226\n",
      "\n",
      "success ratio:  0.7734375\n"
     ]
    }
   ],
   "source": [
    "# 1125_punch_REAL+MIX025025\n",
    "m3_ckpt_dir = \"1125_punch_REAL+MIX025025\"\n",
    "m3_eval_dir = \"/eval/TEST/\"\n",
    "trial = \"trial\" + str(count)\n",
    "m3_reward = np.load(m3_ckpt_dir + m3_eval_dir + trial + \"_avg_reward.npy\", allow_pickle=True)\n",
    "m3_tracking_errors = np.load(m3_ckpt_dir + m3_eval_dir + trial + \"_tracking_errors.npy\", allow_pickle=True)\n",
    "print(m3_reward.shape)\n",
    "print(m3_tracking_errors.shape)\n",
    "\n",
    "\n",
    "m3_tracking_errors = pd.DataFrame(data=m3_tracking_errors)\n",
    "m3_tracking_errors.columns=[\"rlcontroller_errors(cm)\", \"headset_errors(cm)\", \"headset_errors(deg)\"]\n",
    "print(m3_tracking_errors)\n",
    "\n",
    "\n",
    "m3_reward = pd.DataFrame(data=m3_reward)\n",
    "m3_reward.columns=[\"upper_disc\", \"lower_disc\", \"sparse_sensor_reward\", \"direction_reward\"]\n",
    "print(\"\\nsparse_sensor_reward: \", m3_reward['sparse_sensor_reward'].mean())\n",
    "print(\"direction_reward: \", m3_reward['direction_reward'].mean())\n",
    "\n",
    "\n",
    "\n",
    "print(\"\\nrlcontroller_errors(cm): \", m3_tracking_errors['rlcontroller_errors(cm)'].mean())\n",
    "print(\"headset_errors(cm): \",m3_tracking_errors['headset_errors(cm)'].mean())\n",
    "print(\"headset_errors(deg): \",abs(m3_tracking_errors['headset_errors(deg)']).mean())\n",
    "\n",
    "import math\n",
    "failure = np.where(m3_tracking_errors['rlcontroller_errors(cm)'] >  0.15)[0].shape[0]\n",
    "total_frame = m3_tracking_errors.shape[0]\n",
    "print(\"\\nsuccess ratio: \", (total_frame - failure)/total_frame)"
   ]
  },
  {
   "cell_type": "markdown",
   "id": "a1f1014e",
   "metadata": {},
   "source": [
    "## 4-4. Tracking_errors (0.2, 0.3)"
   ]
  },
  {
   "cell_type": "code",
   "execution_count": 48,
   "id": "f479b209",
   "metadata": {},
   "outputs": [
    {
     "name": "stdout",
     "output_type": "stream",
     "text": [
      "(384, 4)\n",
      "(384, 3)\n",
      "     rlcontroller_errors(cm)  headset_errors(cm)  headset_errors(deg)\n",
      "0                   0.437797            0.053229            16.044710\n",
      "1                   0.175124            0.024707             5.864361\n",
      "2                   0.092820            0.020104             5.034768\n",
      "3                   0.065584            0.018635             8.376317\n",
      "4                   0.071889            0.022121             8.712172\n",
      "..                       ...                 ...                  ...\n",
      "379                 0.110396            0.091238            12.421388\n",
      "380                 0.121545            0.110564            14.747686\n",
      "381                 0.131235            0.128387            17.685738\n",
      "382                 0.132656            0.126982            19.624992\n",
      "383                 0.125052            0.105539            19.404417\n",
      "\n",
      "[384 rows x 3 columns]\n",
      "\n",
      "sparse_sensor_reward:  0.706287061329931\n",
      "direction_reward:  0.9664138698329529\n",
      "0.15545999654568732\n",
      "0.06195151197122565\n",
      "16.336765980968874\n",
      "\n",
      "success ratio:  0.6276041666666666\n"
     ]
    }
   ],
   "source": [
    "# 1125_punch_REAL+MIX0203\n",
    "m4_ckpt_dir = \"1125_punch_REAL+MIX0203\"\n",
    "m4_eval_dir = \"/eval/TEST/\"\n",
    "trial = \"trial\" + str(count)\n",
    "m4_reward = np.load(m4_ckpt_dir + m4_eval_dir + trial + \"_avg_reward.npy\", allow_pickle=True)\n",
    "m4_tracking_errors = np.load(m4_ckpt_dir + m4_eval_dir + trial + \"_tracking_errors.npy\", allow_pickle=True)\n",
    "print(m4_reward.shape)\n",
    "print(m4_tracking_errors.shape)\n",
    "\n",
    "\n",
    "\n",
    "\n",
    "m4_tracking_errors = pd.DataFrame(data=m4_tracking_errors)\n",
    "m4_tracking_errors.columns=[\"rlcontroller_errors(cm)\", \"headset_errors(cm)\", \"headset_errors(deg)\"]\n",
    "print(m4_tracking_errors)\n",
    "\n",
    "m4_reward = pd.DataFrame(data=m4_reward)\n",
    "m4_reward.columns=[\"upper_disc\", \"lower_disc\", \"sparse_sensor_reward\", \"direction_reward\"]\n",
    "print(\"\\nsparse_sensor_reward: \", m4_reward['sparse_sensor_reward'].mean())\n",
    "print(\"direction_reward: \", m4_reward['direction_reward'].mean())\n",
    "\n",
    "print(m4_tracking_errors['rlcontroller_errors(cm)'].mean())\n",
    "print(m4_tracking_errors['headset_errors(cm)'].mean())\n",
    "print(abs(m4_tracking_errors['headset_errors(deg)']).mean())\n",
    "\n",
    "\n",
    "import math\n",
    "failure = np.where(m4_tracking_errors['rlcontroller_errors(cm)'] > 0.150)[0].shape[0]\n",
    "total_frame = m4_tracking_errors.shape[0]\n",
    "print(\"\\nsuccess ratio: \", (total_frame - failure)/total_frame)"
   ]
  },
  {
   "cell_type": "code",
   "execution_count": null,
   "id": "3e81e987",
   "metadata": {},
   "outputs": [],
   "source": []
  },
  {
   "cell_type": "code",
   "execution_count": null,
   "id": "f313007b",
   "metadata": {},
   "outputs": [],
   "source": []
  }
 ],
 "metadata": {
  "kernelspec": {
   "display_name": "Python 3 (ipykernel)",
   "language": "python",
   "name": "python3"
  },
  "language_info": {
   "codemirror_mode": {
    "name": "ipython",
    "version": 3
   },
   "file_extension": ".py",
   "mimetype": "text/x-python",
   "name": "python",
   "nbconvert_exporter": "python",
   "pygments_lexer": "ipython3",
   "version": "3.11.3"
  }
 },
 "nbformat": 4,
 "nbformat_minor": 5
}
