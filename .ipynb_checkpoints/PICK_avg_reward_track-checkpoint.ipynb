{
 "cells": [
  {
   "cell_type": "code",
   "execution_count": 2,
   "id": "f4332476",
   "metadata": {},
   "outputs": [],
   "source": [
    "import numpy as np\n",
    "import pandas as pd"
   ]
  },
  {
   "cell_type": "code",
   "execution_count": 57,
   "id": "486d767c",
   "metadata": {},
   "outputs": [],
   "source": [
    "count = 2"
   ]
  },
  {
   "cell_type": "markdown",
   "id": "6a34ec4b",
   "metadata": {},
   "source": [
    "# * Data Composition Analysis * "
   ]
  },
  {
   "cell_type": "markdown",
   "id": "758f4dfb",
   "metadata": {},
   "source": [
    "# 1. 1120_pick_REAL+MIX_embedded+16"
   ]
  },
  {
   "cell_type": "code",
   "execution_count": 58,
   "id": "800eebb5",
   "metadata": {},
   "outputs": [
    {
     "name": "stdout",
     "output_type": "stream",
     "text": [
      "(520, 4)\n",
      "(520, 3)\n"
     ]
    }
   ],
   "source": [
    "# 1120_pick_REAL+MIX_embedded+16\n",
    "mu_ckpt_dir = \"1120_pick_REAL+MIX_embedded+16\"\n",
    "mu_eval_dir = \"/eval/1123_TEST012/\"\n",
    "trial = \"trial\" + str(count)\n",
    "mu_reward = np.load(mu_ckpt_dir + mu_eval_dir + trial + \"_avg_reward.npy\", allow_pickle=True)\n",
    "mu_tracking_errors = np.load(mu_ckpt_dir + mu_eval_dir + trial + \"_tracking_errors.npy\", allow_pickle=True)\n",
    "print(mu_reward.shape)\n",
    "print(mu_tracking_errors.shape)"
   ]
  },
  {
   "cell_type": "markdown",
   "id": "b9445251",
   "metadata": {},
   "source": [
    "# 2. 1120_pick_MIX_embedded+16_comparison"
   ]
  },
  {
   "cell_type": "code",
   "execution_count": 59,
   "id": "9957bbe9",
   "metadata": {},
   "outputs": [
    {
     "name": "stdout",
     "output_type": "stream",
     "text": [
      "(520, 4)\n",
      "(520, 3)\n"
     ]
    }
   ],
   "source": [
    "# 1120_pick_MIX_embedded+16_comparison\n",
    "m_ckpt_dir = \"1120_pick_MIX_embedded+16_comparison\"\n",
    "m_eval_dir = \"/eval/1123_TEST012/\"\n",
    "trial = \"trial\" + str(count)\n",
    "m_reward = np.load(m_ckpt_dir + m_eval_dir + trial + \"_avg_reward.npy\", allow_pickle=True)\n",
    "m_tracking_errors = np.load(m_ckpt_dir + m_eval_dir + trial + \"_tracking_errors.npy\", allow_pickle=True)\n",
    "print(m_reward.shape)\n",
    "print(m_tracking_errors.shape)"
   ]
  },
  {
   "cell_type": "markdown",
   "id": "88ba1872",
   "metadata": {},
   "source": [
    "# 3. 1120_pick_REAL_embedded+16_comparison"
   ]
  },
  {
   "cell_type": "code",
   "execution_count": 60,
   "id": "0d06fca6",
   "metadata": {},
   "outputs": [
    {
     "name": "stdout",
     "output_type": "stream",
     "text": [
      "(520, 4)\n",
      "(520, 3)\n"
     ]
    }
   ],
   "source": [
    "# 1120_pick_REAL_embedded+16_comparison\n",
    "u_ckpt_dir = \"1120_pick_REAL_embedded+16_comparison\"\n",
    "u_eval_dir = \"/eval/1123_TEST012/\"\n",
    "trial = \"trial\" + str(count)\n",
    "u_reward = np.load(u_ckpt_dir + u_eval_dir + trial + \"_avg_reward.npy\", allow_pickle=True)\n",
    "u_tracking_errors = np.load(u_ckpt_dir + u_eval_dir + trial + \"_tracking_errors.npy\", allow_pickle=True)\n",
    "print(u_reward.shape)\n",
    "print(u_tracking_errors.shape)"
   ]
  },
  {
   "cell_type": "markdown",
   "id": "c268a601",
   "metadata": {},
   "source": [
    "## 1-1. rewards"
   ]
  },
  {
   "cell_type": "code",
   "execution_count": 61,
   "id": "56939cca",
   "metadata": {},
   "outputs": [],
   "source": [
    "mu_rewards = pd.DataFrame(data=mu_reward)\n",
    "mu_rewards.columns=[\"upper_disc\", \"lower_disc\", \"sparse_sensor_reward\", \"direction_reward\"]\n",
    "#mu_rewards"
   ]
  },
  {
   "cell_type": "code",
   "execution_count": 62,
   "id": "724598f5",
   "metadata": {},
   "outputs": [
    {
     "name": "stdout",
     "output_type": "stream",
     "text": [
      "MIX+REAL\n",
      "0.8056736703102405\n",
      "0.8616993610532238\n",
      "-0.04376245842924198\n",
      "0.37382893725656546\n"
     ]
    }
   ],
   "source": [
    "print(\"MIX+REAL\")\n",
    "print(mu_rewards['sparse_sensor_reward'].mean())\n",
    "print(mu_rewards['direction_reward'].mean())\n",
    "print(mu_rewards['upper_disc'].mean())\n",
    "print(mu_rewards['lower_disc'].mean())"
   ]
  },
  {
   "cell_type": "markdown",
   "id": "c54c7ebb",
   "metadata": {},
   "source": [
    "## 2-1. rewards"
   ]
  },
  {
   "cell_type": "code",
   "execution_count": 63,
   "id": "7a4d50c7",
   "metadata": {},
   "outputs": [],
   "source": [
    "m_reward = pd.DataFrame(data=m_reward)\n",
    "m_reward.columns=[\"upper_disc\", \"lower_disc\", \"sparse_sensor_reward\", \"direction_reward\"]\n",
    "#m_reward"
   ]
  },
  {
   "cell_type": "code",
   "execution_count": 64,
   "id": "eb107df3",
   "metadata": {},
   "outputs": [
    {
     "name": "stdout",
     "output_type": "stream",
     "text": [
      "MIX\n",
      "0.575580182671547\n",
      "0.9214365359682303\n",
      "-0.008159868040372832\n",
      "0.3765283785473842\n"
     ]
    }
   ],
   "source": [
    "print(\"MIX\")\n",
    "print(m_reward['sparse_sensor_reward'].mean())\n",
    "print(m_reward['direction_reward'].mean())\n",
    "print(m_reward['upper_disc'].mean())\n",
    "print(m_reward['lower_disc'].mean())"
   ]
  },
  {
   "cell_type": "markdown",
   "id": "3375cea8",
   "metadata": {},
   "source": [
    "## 3-1. rewards"
   ]
  },
  {
   "cell_type": "code",
   "execution_count": 65,
   "id": "d636453e",
   "metadata": {},
   "outputs": [],
   "source": [
    "u_reward = pd.DataFrame(data=u_reward)\n",
    "u_reward.columns=[\"upper_disc\", \"lower_disc\", \"sparse_sensor_reward\", \"direction_reward\"]\n",
    "#u_reward"
   ]
  },
  {
   "cell_type": "code",
   "execution_count": 66,
   "id": "1ec97996",
   "metadata": {},
   "outputs": [
    {
     "name": "stdout",
     "output_type": "stream",
     "text": [
      "REAL\n",
      "0.8213450979154844\n",
      "0.6364209861315501\n",
      "-0.047545383344941704\n",
      "0.34205575575335667\n"
     ]
    }
   ],
   "source": [
    "print(\"REAL\")\n",
    "print(u_reward['sparse_sensor_reward'].mean())\n",
    "print(u_reward['direction_reward'].mean())\n",
    "print(u_reward['upper_disc'].mean())\n",
    "print(u_reward['lower_disc'].mean())"
   ]
  },
  {
   "cell_type": "markdown",
   "id": "93a87bed",
   "metadata": {},
   "source": [
    "# * Ablation Study: Sparse Sensor *"
   ]
  },
  {
   "cell_type": "code",
   "execution_count": 73,
   "id": "64350950",
   "metadata": {},
   "outputs": [],
   "source": [
    "count = 2\n",
    "import numpy as np\n",
    "import pandas as pd"
   ]
  },
  {
   "cell_type": "markdown",
   "id": "1c7c817d",
   "metadata": {},
   "source": [
    "## 4-1. MIX+REAL tracking_errors"
   ]
  },
  {
   "cell_type": "code",
   "execution_count": 74,
   "id": "483ba6f7",
   "metadata": {},
   "outputs": [
    {
     "name": "stdout",
     "output_type": "stream",
     "text": [
      "(630, 4)\n",
      "(630, 3)\n"
     ]
    },
    {
     "data": {
      "text/html": [
       "<div>\n",
       "<style scoped>\n",
       "    .dataframe tbody tr th:only-of-type {\n",
       "        vertical-align: middle;\n",
       "    }\n",
       "\n",
       "    .dataframe tbody tr th {\n",
       "        vertical-align: top;\n",
       "    }\n",
       "\n",
       "    .dataframe thead th {\n",
       "        text-align: right;\n",
       "    }\n",
       "</style>\n",
       "<table border=\"1\" class=\"dataframe\">\n",
       "  <thead>\n",
       "    <tr style=\"text-align: right;\">\n",
       "      <th></th>\n",
       "      <th>rlcontroller_errors(cm)</th>\n",
       "      <th>headset_errors(cm)</th>\n",
       "      <th>headset_errors(deg)</th>\n",
       "    </tr>\n",
       "  </thead>\n",
       "  <tbody>\n",
       "    <tr>\n",
       "      <th>0</th>\n",
       "      <td>0.470615</td>\n",
       "      <td>0.057891</td>\n",
       "      <td>10.098001</td>\n",
       "    </tr>\n",
       "    <tr>\n",
       "      <th>1</th>\n",
       "      <td>0.251172</td>\n",
       "      <td>0.070054</td>\n",
       "      <td>8.762473</td>\n",
       "    </tr>\n",
       "    <tr>\n",
       "      <th>2</th>\n",
       "      <td>0.109300</td>\n",
       "      <td>0.083815</td>\n",
       "      <td>10.617682</td>\n",
       "    </tr>\n",
       "    <tr>\n",
       "      <th>3</th>\n",
       "      <td>0.097200</td>\n",
       "      <td>0.060810</td>\n",
       "      <td>7.575305</td>\n",
       "    </tr>\n",
       "    <tr>\n",
       "      <th>4</th>\n",
       "      <td>0.075546</td>\n",
       "      <td>0.044415</td>\n",
       "      <td>7.982017</td>\n",
       "    </tr>\n",
       "    <tr>\n",
       "      <th>...</th>\n",
       "      <td>...</td>\n",
       "      <td>...</td>\n",
       "      <td>...</td>\n",
       "    </tr>\n",
       "    <tr>\n",
       "      <th>625</th>\n",
       "      <td>0.039432</td>\n",
       "      <td>0.024306</td>\n",
       "      <td>17.764410</td>\n",
       "    </tr>\n",
       "    <tr>\n",
       "      <th>626</th>\n",
       "      <td>0.041077</td>\n",
       "      <td>0.023151</td>\n",
       "      <td>17.019783</td>\n",
       "    </tr>\n",
       "    <tr>\n",
       "      <th>627</th>\n",
       "      <td>0.044829</td>\n",
       "      <td>0.022962</td>\n",
       "      <td>14.927642</td>\n",
       "    </tr>\n",
       "    <tr>\n",
       "      <th>628</th>\n",
       "      <td>0.048158</td>\n",
       "      <td>0.023829</td>\n",
       "      <td>12.290833</td>\n",
       "    </tr>\n",
       "    <tr>\n",
       "      <th>629</th>\n",
       "      <td>0.051882</td>\n",
       "      <td>0.022124</td>\n",
       "      <td>9.498488</td>\n",
       "    </tr>\n",
       "  </tbody>\n",
       "</table>\n",
       "<p>630 rows × 3 columns</p>\n",
       "</div>"
      ],
      "text/plain": [
       "     rlcontroller_errors(cm)  headset_errors(cm)  headset_errors(deg)\n",
       "0                   0.470615            0.057891            10.098001\n",
       "1                   0.251172            0.070054             8.762473\n",
       "2                   0.109300            0.083815            10.617682\n",
       "3                   0.097200            0.060810             7.575305\n",
       "4                   0.075546            0.044415             7.982017\n",
       "..                       ...                 ...                  ...\n",
       "625                 0.039432            0.024306            17.764410\n",
       "626                 0.041077            0.023151            17.019783\n",
       "627                 0.044829            0.022962            14.927642\n",
       "628                 0.048158            0.023829            12.290833\n",
       "629                 0.051882            0.022124             9.498488\n",
       "\n",
       "[630 rows x 3 columns]"
      ]
     },
     "execution_count": 74,
     "metadata": {},
     "output_type": "execute_result"
    }
   ],
   "source": [
    "# 1120_pick_REAL+MIX_embedded+16\n",
    "mu_ckpt_dir = \"1120_pick_REAL+MIX_embedded+16\"\n",
    "mu_eval_dir = \"/eval/1123_TEST012/\"\n",
    "trial = \"trial\" + str(count)\n",
    "mu_reward = np.load(mu_ckpt_dir + mu_eval_dir + trial + \"_avg_reward.npy\", allow_pickle=True)\n",
    "mu_tracking_errors = np.load(mu_ckpt_dir + mu_eval_dir + trial + \"_tracking_errors.npy\", allow_pickle=True)\n",
    "print(mu_reward.shape)\n",
    "print(mu_tracking_errors.shape)\n",
    "\n",
    "\n",
    "mu_tracking_errors = pd.DataFrame(data=mu_tracking_errors)\n",
    "mu_tracking_errors.columns=[\"rlcontroller_errors(cm)\", \"headset_errors(cm)\", \"headset_errors(deg)\"]\n",
    "mu_tracking_errors"
   ]
  },
  {
   "cell_type": "code",
   "execution_count": 75,
   "id": "3c3c1f25",
   "metadata": {},
   "outputs": [
    {
     "name": "stdout",
     "output_type": "stream",
     "text": [
      "0.04736531276462807\n",
      "0.04613267570911419\n",
      "15.213674938300299\n"
     ]
    }
   ],
   "source": [
    "print(mu_tracking_errors['rlcontroller_errors(cm)'].mean())\n",
    "print(mu_tracking_errors['headset_errors(cm)'].mean())\n",
    "print(abs(mu_tracking_errors['headset_errors(deg)']).mean())"
   ]
  },
  {
   "cell_type": "markdown",
   "id": "ce563327",
   "metadata": {},
   "source": [
    "### Success Ratio"
   ]
  },
  {
   "cell_type": "code",
   "execution_count": 76,
   "id": "0a463679",
   "metadata": {},
   "outputs": [
    {
     "name": "stdout",
     "output_type": "stream",
     "text": [
      "0.7492063492063492\n"
     ]
    }
   ],
   "source": [
    "import math\n",
    "failure = np.where(mu_tracking_errors['rlcontroller_errors(cm)'] > 0.06)[0].shape[0]\n",
    "total_frame = mu_tracking_errors.shape[0]\n",
    "print((total_frame - failure)/total_frame)"
   ]
  },
  {
   "cell_type": "code",
   "execution_count": null,
   "id": "e837867d",
   "metadata": {},
   "outputs": [],
   "source": []
  }
 ],
 "metadata": {
  "kernelspec": {
   "display_name": "Python 3 (ipykernel)",
   "language": "python",
   "name": "python3"
  },
  "language_info": {
   "codemirror_mode": {
    "name": "ipython",
    "version": 3
   },
   "file_extension": ".py",
   "mimetype": "text/x-python",
   "name": "python",
   "nbconvert_exporter": "python",
   "pygments_lexer": "ipython3",
   "version": "3.11.3"
  }
 },
 "nbformat": 4,
 "nbformat_minor": 5
}
