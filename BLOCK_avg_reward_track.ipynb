{
 "cells": [
  {
   "cell_type": "code",
   "execution_count": 5,
   "id": "f4332476",
   "metadata": {},
   "outputs": [],
   "source": [
    "import numpy as np\n",
    "import pandas as pd"
   ]
  },
  {
   "cell_type": "code",
   "execution_count": 164,
   "id": "486d767c",
   "metadata": {},
   "outputs": [],
   "source": [
    "count = 0"
   ]
  },
  {
   "cell_type": "markdown",
   "id": "6a34ec4b",
   "metadata": {},
   "source": [
    "# * Data Composition Analysis * "
   ]
  },
  {
   "cell_type": "markdown",
   "id": "758f4dfb",
   "metadata": {},
   "source": [
    "# 1. 1116_block_MIX+REAL_embedded+16"
   ]
  },
  {
   "cell_type": "code",
   "execution_count": 157,
   "id": "800eebb5",
   "metadata": {},
   "outputs": [
    {
     "name": "stdout",
     "output_type": "stream",
     "text": [
      "(450, 4)\n",
      "(450, 3)\n"
     ]
    }
   ],
   "source": [
    "# 1116_block_MIX+REAL_embedded+16\n",
    "mu_ckpt_dir = \"1116_block_MIX+REAL_embedded+16\"\n",
    "mu_eval_dir = \"/eval/\"\n",
    "trial = \"trial\" + str(count)\n",
    "mu_reward = np.load(mu_ckpt_dir + mu_eval_dir + trial + \"_avg_reward.npy\", allow_pickle=True)\n",
    "mu_tracking_errors = np.load(mu_ckpt_dir + mu_eval_dir + trial + \"_tracking_errors.npy\", allow_pickle=True)\n",
    "print(mu_reward.shape)\n",
    "print(mu_tracking_errors.shape)"
   ]
  },
  {
   "cell_type": "markdown",
   "id": "b9445251",
   "metadata": {},
   "source": [
    "# 2. 1116_block_MIX_embedded+16_comparison"
   ]
  },
  {
   "cell_type": "code",
   "execution_count": 132,
   "id": "9957bbe9",
   "metadata": {},
   "outputs": [
    {
     "name": "stdout",
     "output_type": "stream",
     "text": [
      "(450, 4)\n",
      "(450, 3)\n"
     ]
    }
   ],
   "source": [
    "# # 1116_block_MIX_embedded+16_comparison\n",
    "m_ckpt_dir = \"1116_block_MIX_embedded+16_comparison\"\n",
    "m_eval_dir = \"/eval/\"\n",
    "trial = \"trial\" + str(count)\n",
    "m_reward = np.load(m_ckpt_dir + m_eval_dir + trial + \"_avg_reward.npy\", allow_pickle=True)\n",
    "m_tracking_errors = np.load(m_ckpt_dir + m_eval_dir + trial + \"_tracking_errors.npy\", allow_pickle=True)\n",
    "print(m_reward.shape)\n",
    "print(m_tracking_errors.shape)"
   ]
  },
  {
   "cell_type": "markdown",
   "id": "88ba1872",
   "metadata": {},
   "source": [
    "# 3. 1116_block_REAL_embedded+16_comparison"
   ]
  },
  {
   "cell_type": "code",
   "execution_count": 137,
   "id": "0d06fca6",
   "metadata": {},
   "outputs": [
    {
     "name": "stdout",
     "output_type": "stream",
     "text": [
      "(450, 4)\n",
      "(450, 3)\n"
     ]
    }
   ],
   "source": [
    "# 1116_block_REAL_embedded+16_comparison\n",
    "u_ckpt_dir = \"1116_block_REAL_embedded+16_comparison\"\n",
    "u_eval_dir = \"/eval/\"\n",
    "trial = \"trial\" + str(count)\n",
    "u_reward = np.load(u_ckpt_dir + u_eval_dir + trial + \"_avg_reward.npy\", allow_pickle=True)\n",
    "u_tracking_errors = np.load(u_ckpt_dir + u_eval_dir + trial + \"_tracking_errors.npy\", allow_pickle=True)\n",
    "print(u_reward.shape)\n",
    "print(u_tracking_errors.shape)"
   ]
  },
  {
   "cell_type": "markdown",
   "id": "c268a601",
   "metadata": {},
   "source": [
    "## 1-1. rewards"
   ]
  },
  {
   "cell_type": "code",
   "execution_count": 128,
   "id": "56939cca",
   "metadata": {},
   "outputs": [],
   "source": [
    "mu_rewards = pd.DataFrame(data=mu_reward)\n",
    "mu_rewards.columns=[\"upper_disc\", \"lower_disc\", \"sparse_sensor_reward\", \"direction_reward\"]\n",
    "#mu_rewards"
   ]
  },
  {
   "cell_type": "code",
   "execution_count": 129,
   "id": "724598f5",
   "metadata": {},
   "outputs": [
    {
     "name": "stdout",
     "output_type": "stream",
     "text": [
      "0.8226624707380931\n",
      "0.7611497297127627\n",
      "-0.09982470270556708\n",
      "0.4283438559042083\n"
     ]
    }
   ],
   "source": [
    "print(mu_rewards['sparse_sensor_reward'].mean())\n",
    "print(mu_rewards['direction_reward'].mean())\n",
    "print(mu_rewards['upper_disc'].mean())\n",
    "print(mu_rewards['lower_disc'].mean())"
   ]
  },
  {
   "cell_type": "markdown",
   "id": "c54c7ebb",
   "metadata": {},
   "source": [
    "## 2-1. rewards"
   ]
  },
  {
   "cell_type": "code",
   "execution_count": 133,
   "id": "7a4d50c7",
   "metadata": {},
   "outputs": [],
   "source": [
    "m_reward = pd.DataFrame(data=m_reward)\n",
    "m_reward.columns=[\"upper_disc\", \"lower_disc\", \"sparse_sensor_reward\", \"direction_reward\"]\n",
    "#m_reward"
   ]
  },
  {
   "cell_type": "code",
   "execution_count": 134,
   "id": "eb107df3",
   "metadata": {},
   "outputs": [
    {
     "name": "stdout",
     "output_type": "stream",
     "text": [
      "0.5848488910330667\n",
      "0.8243818721320066\n",
      "0.03706065736917986\n",
      "0.3465064048435953\n"
     ]
    }
   ],
   "source": [
    "print(m_reward['sparse_sensor_reward'].mean())\n",
    "print(m_reward['direction_reward'].mean())\n",
    "print(m_reward['upper_disc'].mean())\n",
    "print(m_reward['lower_disc'].mean())"
   ]
  },
  {
   "cell_type": "markdown",
   "id": "3375cea8",
   "metadata": {},
   "source": [
    "## 3-1. rewards"
   ]
  },
  {
   "cell_type": "code",
   "execution_count": 138,
   "id": "d636453e",
   "metadata": {},
   "outputs": [],
   "source": [
    "u_reward = pd.DataFrame(data=u_reward)\n",
    "u_reward.columns=[\"upper_disc\", \"lower_disc\", \"sparse_sensor_reward\", \"direction_reward\"]\n",
    "#u_reward"
   ]
  },
  {
   "cell_type": "code",
   "execution_count": 139,
   "id": "1ec97996",
   "metadata": {},
   "outputs": [
    {
     "name": "stdout",
     "output_type": "stream",
     "text": [
      "0.8262877959675259\n",
      "0.5306311393066102\n",
      "0.08616536014195945\n",
      "0.31079220412506\n"
     ]
    }
   ],
   "source": [
    "print(u_reward['sparse_sensor_reward'].mean())\n",
    "print(u_reward['direction_reward'].mean())\n",
    "print(u_reward['upper_disc'].mean())\n",
    "print(u_reward['lower_disc'].mean())"
   ]
  },
  {
   "cell_type": "markdown",
   "id": "93a87bed",
   "metadata": {},
   "source": [
    "# * Ablation Study: Sparse Sensor *"
   ]
  },
  {
   "cell_type": "code",
   "execution_count": 202,
   "id": "64350950",
   "metadata": {},
   "outputs": [],
   "source": [
    "count = 4"
   ]
  },
  {
   "cell_type": "markdown",
   "id": "1c7c817d",
   "metadata": {},
   "source": [
    "## 4-1. MIX+REAL tracking_errors"
   ]
  },
  {
   "cell_type": "code",
   "execution_count": 203,
   "id": "483ba6f7",
   "metadata": {},
   "outputs": [
    {
     "name": "stdout",
     "output_type": "stream",
     "text": [
      "(450, 4)\n",
      "(450, 3)\n"
     ]
    }
   ],
   "source": [
    "# 1116_block_MIX+REAL_embedded+16\n",
    "mu_ckpt_dir = \"1116_block_MIX+REAL_embedded+16\"\n",
    "mu_eval_dir = \"/eval/\"\n",
    "trial = \"trial\" + str(count)\n",
    "mu_reward = np.load(mu_ckpt_dir + mu_eval_dir + trial + \"_avg_reward.npy\", allow_pickle=True)\n",
    "mu_tracking_errors = np.load(mu_ckpt_dir + mu_eval_dir + trial + \"_tracking_errors.npy\", allow_pickle=True)\n",
    "print(mu_reward.shape)\n",
    "print(mu_tracking_errors.shape)\n",
    "\n",
    "\n",
    "mu_tracking_errors = pd.DataFrame(data=mu_tracking_errors)\n",
    "mu_tracking_errors.columns=[\"rlcontroller_errors(cm)\", \"headset_errors(cm)\", \"headset_errors(deg)\"]\n",
    "#mu_tracking_errors"
   ]
  },
  {
   "cell_type": "code",
   "execution_count": 204,
   "id": "3c3c1f25",
   "metadata": {},
   "outputs": [
    {
     "name": "stdout",
     "output_type": "stream",
     "text": [
      "0.039885945556064444\n",
      "0.036503408456272965\n",
      "0.9999999711248609\n"
     ]
    }
   ],
   "source": [
    "print(mu_tracking_errors['rlcontroller_errors(cm)'].mean())\n",
    "print(mu_tracking_errors['headset_errors(cm)'].mean())\n",
    "print(mu_tracking_errors['headset_errors(deg)'].mean())"
   ]
  },
  {
   "cell_type": "markdown",
   "id": "302c5dc7",
   "metadata": {},
   "source": [
    "## 4-2.  MIX+REAL+Ablation tracking_errors"
   ]
  },
  {
   "cell_type": "code",
   "execution_count": 205,
   "id": "4d746b6a",
   "metadata": {},
   "outputs": [
    {
     "name": "stdout",
     "output_type": "stream",
     "text": [
      "(450, 3)\n",
      "(450, 3)\n"
     ]
    }
   ],
   "source": [
    "# 1116_block_MIX+REAL_ablation\n",
    "ab_ckpt_dir = \"1116_block_MIX+REAL_ablation\"\n",
    "ab_eval_dir = \"/eval/\"\n",
    "trial = \"trial\" + str(count)\n",
    "ab_reward = np.load(ab_ckpt_dir + ab_eval_dir + trial + \"_avg_reward.npy\", allow_pickle=True)\n",
    "ab_tracking_errors = np.load(ab_ckpt_dir + ab_eval_dir + trial + \"_tracking_errors.npy\", allow_pickle=True)\n",
    "print(ab_reward.shape)\n",
    "print(ab_tracking_errors.shape)"
   ]
  },
  {
   "cell_type": "code",
   "execution_count": 206,
   "id": "dfe1ad9a",
   "metadata": {},
   "outputs": [
    {
     "data": {
      "text/html": [
       "<div>\n",
       "<style scoped>\n",
       "    .dataframe tbody tr th:only-of-type {\n",
       "        vertical-align: middle;\n",
       "    }\n",
       "\n",
       "    .dataframe tbody tr th {\n",
       "        vertical-align: top;\n",
       "    }\n",
       "\n",
       "    .dataframe thead th {\n",
       "        text-align: right;\n",
       "    }\n",
       "</style>\n",
       "<table border=\"1\" class=\"dataframe\">\n",
       "  <thead>\n",
       "    <tr style=\"text-align: right;\">\n",
       "      <th></th>\n",
       "      <th>rlcontroller_errors(cm)</th>\n",
       "      <th>headset_errors(cm)</th>\n",
       "      <th>headset_errors(deg)</th>\n",
       "    </tr>\n",
       "  </thead>\n",
       "  <tbody>\n",
       "    <tr>\n",
       "      <th>0</th>\n",
       "      <td>0.590001</td>\n",
       "      <td>0.043373</td>\n",
       "      <td>1.0</td>\n",
       "    </tr>\n",
       "    <tr>\n",
       "      <th>1</th>\n",
       "      <td>0.557224</td>\n",
       "      <td>0.033038</td>\n",
       "      <td>1.0</td>\n",
       "    </tr>\n",
       "    <tr>\n",
       "      <th>2</th>\n",
       "      <td>0.536195</td>\n",
       "      <td>0.016790</td>\n",
       "      <td>1.0</td>\n",
       "    </tr>\n",
       "    <tr>\n",
       "      <th>3</th>\n",
       "      <td>0.541874</td>\n",
       "      <td>0.013758</td>\n",
       "      <td>1.0</td>\n",
       "    </tr>\n",
       "    <tr>\n",
       "      <th>4</th>\n",
       "      <td>0.570061</td>\n",
       "      <td>0.032022</td>\n",
       "      <td>1.0</td>\n",
       "    </tr>\n",
       "    <tr>\n",
       "      <th>...</th>\n",
       "      <td>...</td>\n",
       "      <td>...</td>\n",
       "      <td>...</td>\n",
       "    </tr>\n",
       "    <tr>\n",
       "      <th>445</th>\n",
       "      <td>0.615487</td>\n",
       "      <td>0.114590</td>\n",
       "      <td>1.0</td>\n",
       "    </tr>\n",
       "    <tr>\n",
       "      <th>446</th>\n",
       "      <td>0.625819</td>\n",
       "      <td>0.123698</td>\n",
       "      <td>1.0</td>\n",
       "    </tr>\n",
       "    <tr>\n",
       "      <th>447</th>\n",
       "      <td>0.625628</td>\n",
       "      <td>0.137211</td>\n",
       "      <td>1.0</td>\n",
       "    </tr>\n",
       "    <tr>\n",
       "      <th>448</th>\n",
       "      <td>0.622175</td>\n",
       "      <td>0.155996</td>\n",
       "      <td>1.0</td>\n",
       "    </tr>\n",
       "    <tr>\n",
       "      <th>449</th>\n",
       "      <td>0.619154</td>\n",
       "      <td>0.156337</td>\n",
       "      <td>1.0</td>\n",
       "    </tr>\n",
       "  </tbody>\n",
       "</table>\n",
       "<p>450 rows × 3 columns</p>\n",
       "</div>"
      ],
      "text/plain": [
       "     rlcontroller_errors(cm)  headset_errors(cm)  headset_errors(deg)\n",
       "0                   0.590001            0.043373                  1.0\n",
       "1                   0.557224            0.033038                  1.0\n",
       "2                   0.536195            0.016790                  1.0\n",
       "3                   0.541874            0.013758                  1.0\n",
       "4                   0.570061            0.032022                  1.0\n",
       "..                       ...                 ...                  ...\n",
       "445                 0.615487            0.114590                  1.0\n",
       "446                 0.625819            0.123698                  1.0\n",
       "447                 0.625628            0.137211                  1.0\n",
       "448                 0.622175            0.155996                  1.0\n",
       "449                 0.619154            0.156337                  1.0\n",
       "\n",
       "[450 rows x 3 columns]"
      ]
     },
     "execution_count": 206,
     "metadata": {},
     "output_type": "execute_result"
    }
   ],
   "source": [
    "ab_tracking_errors = pd.DataFrame(data=ab_tracking_errors)\n",
    "ab_tracking_errors.columns=[\"rlcontroller_errors(cm)\", \"headset_errors(cm)\", \"headset_errors(deg)\"]\n",
    "ab_tracking_errors"
   ]
  },
  {
   "cell_type": "code",
   "execution_count": 207,
   "id": "7b98f8bd",
   "metadata": {},
   "outputs": [
    {
     "name": "stdout",
     "output_type": "stream",
     "text": [
      "0.421772802422444\n",
      "0.08342744797882107\n",
      "0.999999965429306\n"
     ]
    }
   ],
   "source": [
    "print(ab_tracking_errors['rlcontroller_errors(cm)'].mean())\n",
    "print(ab_tracking_errors['headset_errors(cm)'].mean())\n",
    "print(ab_tracking_errors['headset_errors(deg)'].mean())"
   ]
  },
  {
   "cell_type": "code",
   "execution_count": null,
   "id": "5c2148dd",
   "metadata": {},
   "outputs": [],
   "source": []
  },
  {
   "cell_type": "code",
   "execution_count": null,
   "id": "6d9c7302",
   "metadata": {},
   "outputs": [],
   "source": []
  }
 ],
 "metadata": {
  "kernelspec": {
   "display_name": "Python 3 (ipykernel)",
   "language": "python",
   "name": "python3"
  },
  "language_info": {
   "codemirror_mode": {
    "name": "ipython",
    "version": 3
   },
   "file_extension": ".py",
   "mimetype": "text/x-python",
   "name": "python",
   "nbconvert_exporter": "python",
   "pygments_lexer": "ipython3",
   "version": "3.11.3"
  }
 },
 "nbformat": 4,
 "nbformat_minor": 5
}
