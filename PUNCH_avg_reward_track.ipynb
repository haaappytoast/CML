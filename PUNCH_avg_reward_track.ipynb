{
 "cells": [
  {
   "cell_type": "code",
   "execution_count": 2,
   "id": "f4332476",
   "metadata": {},
   "outputs": [],
   "source": [
    "import numpy as np\n",
    "import pandas as pd"
   ]
  },
  {
   "cell_type": "code",
   "execution_count": 57,
   "id": "486d767c",
   "metadata": {},
   "outputs": [],
   "source": [
    "count = 2"
   ]
  },
  {
   "cell_type": "markdown",
   "id": "6a34ec4b",
   "metadata": {},
   "source": [
    "# * Data Composition Analysis * "
   ]
  },
  {
   "cell_type": "markdown",
   "id": "758f4dfb",
   "metadata": {},
   "source": [
    "# 1. 1120_pick_REAL+MIX_embedded+16"
   ]
  },
  {
   "cell_type": "code",
   "execution_count": 58,
   "id": "800eebb5",
   "metadata": {},
   "outputs": [
    {
     "name": "stdout",
     "output_type": "stream",
     "text": [
      "(520, 4)\n",
      "(520, 3)\n"
     ]
    }
   ],
   "source": [
    "# 1120_pick_REAL+MIX_embedded+16\n",
    "mu_ckpt_dir = \"1120_pick_REAL+MIX_embedded+16\"\n",
    "mu_eval_dir = \"/eval/1123_TEST012/\"\n",
    "trial = \"trial\" + str(count)\n",
    "mu_reward = np.load(mu_ckpt_dir + mu_eval_dir + trial + \"_avg_reward.npy\", allow_pickle=True)\n",
    "mu_tracking_errors = np.load(mu_ckpt_dir + mu_eval_dir + trial + \"_tracking_errors.npy\", allow_pickle=True)\n",
    "print(mu_reward.shape)\n",
    "print(mu_tracking_errors.shape)"
   ]
  },
  {
   "cell_type": "markdown",
   "id": "b9445251",
   "metadata": {},
   "source": [
    "# 2. 1120_pick_MIX_embedded+16_comparison"
   ]
  },
  {
   "cell_type": "code",
   "execution_count": 59,
   "id": "9957bbe9",
   "metadata": {},
   "outputs": [
    {
     "name": "stdout",
     "output_type": "stream",
     "text": [
      "(520, 4)\n",
      "(520, 3)\n"
     ]
    }
   ],
   "source": [
    "# 1120_pick_MIX_embedded+16_comparison\n",
    "m_ckpt_dir = \"1120_pick_MIX_embedded+16_comparison\"\n",
    "m_eval_dir = \"/eval/1123_TEST012/\"\n",
    "trial = \"trial\" + str(count)\n",
    "m_reward = np.load(m_ckpt_dir + m_eval_dir + trial + \"_avg_reward.npy\", allow_pickle=True)\n",
    "m_tracking_errors = np.load(m_ckpt_dir + m_eval_dir + trial + \"_tracking_errors.npy\", allow_pickle=True)\n",
    "print(m_reward.shape)\n",
    "print(m_tracking_errors.shape)"
   ]
  },
  {
   "cell_type": "markdown",
   "id": "88ba1872",
   "metadata": {},
   "source": [
    "# 3. 1120_pick_REAL_embedded+16_comparison"
   ]
  },
  {
   "cell_type": "code",
   "execution_count": 60,
   "id": "0d06fca6",
   "metadata": {},
   "outputs": [
    {
     "name": "stdout",
     "output_type": "stream",
     "text": [
      "(520, 4)\n",
      "(520, 3)\n"
     ]
    }
   ],
   "source": [
    "# 1120_pick_REAL_embedded+16_comparison\n",
    "u_ckpt_dir = \"1120_pick_REAL_embedded+16_comparison\"\n",
    "u_eval_dir = \"/eval/1123_TEST012/\"\n",
    "trial = \"trial\" + str(count)\n",
    "u_reward = np.load(u_ckpt_dir + u_eval_dir + trial + \"_avg_reward.npy\", allow_pickle=True)\n",
    "u_tracking_errors = np.load(u_ckpt_dir + u_eval_dir + trial + \"_tracking_errors.npy\", allow_pickle=True)\n",
    "print(u_reward.shape)\n",
    "print(u_tracking_errors.shape)"
   ]
  },
  {
   "cell_type": "markdown",
   "id": "c268a601",
   "metadata": {},
   "source": [
    "## 1-1. rewards"
   ]
  },
  {
   "cell_type": "code",
   "execution_count": 61,
   "id": "56939cca",
   "metadata": {},
   "outputs": [],
   "source": [
    "mu_rewards = pd.DataFrame(data=mu_reward)\n",
    "mu_rewards.columns=[\"upper_disc\", \"lower_disc\", \"sparse_sensor_reward\", \"direction_reward\"]\n",
    "#mu_rewards"
   ]
  },
  {
   "cell_type": "code",
   "execution_count": 62,
   "id": "724598f5",
   "metadata": {},
   "outputs": [
    {
     "name": "stdout",
     "output_type": "stream",
     "text": [
      "MIX+REAL\n",
      "0.8056736703102405\n",
      "0.8616993610532238\n",
      "-0.04376245842924198\n",
      "0.37382893725656546\n"
     ]
    }
   ],
   "source": [
    "print(\"MIX+REAL\")\n",
    "print(mu_rewards['sparse_sensor_reward'].mean())\n",
    "print(mu_rewards['direction_reward'].mean())\n",
    "print(mu_rewards['upper_disc'].mean())\n",
    "print(mu_rewards['lower_disc'].mean())"
   ]
  },
  {
   "cell_type": "markdown",
   "id": "c54c7ebb",
   "metadata": {},
   "source": [
    "## 2-1. rewards"
   ]
  },
  {
   "cell_type": "code",
   "execution_count": 63,
   "id": "7a4d50c7",
   "metadata": {},
   "outputs": [],
   "source": [
    "m_reward = pd.DataFrame(data=m_reward)\n",
    "m_reward.columns=[\"upper_disc\", \"lower_disc\", \"sparse_sensor_reward\", \"direction_reward\"]\n",
    "#m_reward"
   ]
  },
  {
   "cell_type": "code",
   "execution_count": 64,
   "id": "eb107df3",
   "metadata": {},
   "outputs": [
    {
     "name": "stdout",
     "output_type": "stream",
     "text": [
      "MIX\n",
      "0.575580182671547\n",
      "0.9214365359682303\n",
      "-0.008159868040372832\n",
      "0.3765283785473842\n"
     ]
    }
   ],
   "source": [
    "print(\"MIX\")\n",
    "print(m_reward['sparse_sensor_reward'].mean())\n",
    "print(m_reward['direction_reward'].mean())\n",
    "print(m_reward['upper_disc'].mean())\n",
    "print(m_reward['lower_disc'].mean())"
   ]
  },
  {
   "cell_type": "markdown",
   "id": "3375cea8",
   "metadata": {},
   "source": [
    "## 3-1. rewards"
   ]
  },
  {
   "cell_type": "code",
   "execution_count": 65,
   "id": "d636453e",
   "metadata": {},
   "outputs": [],
   "source": [
    "u_reward = pd.DataFrame(data=u_reward)\n",
    "u_reward.columns=[\"upper_disc\", \"lower_disc\", \"sparse_sensor_reward\", \"direction_reward\"]\n",
    "#u_reward"
   ]
  },
  {
   "cell_type": "code",
   "execution_count": 66,
   "id": "1ec97996",
   "metadata": {},
   "outputs": [
    {
     "name": "stdout",
     "output_type": "stream",
     "text": [
      "REAL\n",
      "0.8213450979154844\n",
      "0.6364209861315501\n",
      "-0.047545383344941704\n",
      "0.34205575575335667\n"
     ]
    }
   ],
   "source": [
    "print(\"REAL\")\n",
    "print(u_reward['sparse_sensor_reward'].mean())\n",
    "print(u_reward['direction_reward'].mean())\n",
    "print(u_reward['upper_disc'].mean())\n",
    "print(u_reward['lower_disc'].mean())"
   ]
  },
  {
   "cell_type": "markdown",
   "id": "93a87bed",
   "metadata": {},
   "source": [
    "# * Ablation Study: Sparse Sensor *"
   ]
  },
  {
   "cell_type": "code",
   "execution_count": 20,
   "id": "64350950",
   "metadata": {},
   "outputs": [],
   "source": [
    "count = 5\n",
    "import numpy as np\n",
    "import pandas as pd"
   ]
  },
  {
   "cell_type": "markdown",
   "id": "1c7c817d",
   "metadata": {},
   "source": [
    "## 4-1. Tracking_errors (0.35, 0.15)"
   ]
  },
  {
   "cell_type": "code",
   "execution_count": 21,
   "id": "483ba6f7",
   "metadata": {},
   "outputs": [
    {
     "name": "stdout",
     "output_type": "stream",
     "text": [
      "(447, 4)\n",
      "(447, 3)\n",
      "sparse_sensor_reward:  0.8527842921431966\n",
      "direction_reward:  0.7241113446777899\n",
      "m1_tracking_errors:       rlcontroller_errors(cm)  headset_errors(cm)  headset_errors(deg)\n",
      "0                   0.673071            0.098821             5.424044\n",
      "1                   0.597185            0.164554            16.564756\n",
      "2                   0.413172            0.100548            11.450449\n",
      "3                   0.261379            0.040693             5.752607\n",
      "4                   0.198862            0.048079             6.858737\n",
      "..                       ...                 ...                  ...\n",
      "442                 0.042154            0.037498             3.627613\n",
      "443                 0.045570            0.036665             2.842387\n",
      "444                 0.049700            0.035947             2.927327\n",
      "445                 0.048861            0.033346             3.318342\n",
      "446                 0.050919            0.030292             3.496173\n",
      "\n",
      "[447 rows x 3 columns]\n",
      "\n",
      "rlcontroller_errors(cm):  0.05920866715786374\n",
      "headset_errors(cm):  0.040690313793418795\n",
      "headset_errors(deg):  8.770442778298785\n",
      "\n",
      "success ratio:  0.9910514541387024\n"
     ]
    }
   ],
   "source": [
    "# 1125_punch_REAL+MIX035015\n",
    "m1_ckpt_dir = \"1125_punch_REAL+MIX035015\"\n",
    "m1_eval_dir = \"/eval/TEST/\"\n",
    "trial = \"trial\" + str(count)\n",
    "m1_reward = np.load(m1_ckpt_dir + m1_eval_dir + trial + \"_avg_reward.npy\", allow_pickle=True)\n",
    "m1_tracking_errors = np.load(m1_ckpt_dir + m1_eval_dir + trial + \"_tracking_errors.npy\", allow_pickle=True)\n",
    "print(m1_reward.shape)\n",
    "print(m1_tracking_errors.shape)\n",
    "\n",
    "m1_reward = pd.DataFrame(data=m1_reward)\n",
    "m1_reward.columns=[\"upper_disc\", \"lower_disc\", \"sparse_sensor_reward\", \"direction_reward\"]\n",
    "print(\"sparse_sensor_reward: \", m1_reward['sparse_sensor_reward'].mean())\n",
    "print(\"direction_reward: \", m1_reward['direction_reward'].mean())\n",
    "\n",
    "m1_tracking_errors = pd.DataFrame(data=m1_tracking_errors)\n",
    "m1_tracking_errors.columns=[\"rlcontroller_errors(cm)\", \"headset_errors(cm)\", \"headset_errors(deg)\"]\n",
    "print(\"m1_tracking_errors: \", m1_tracking_errors)\n",
    "\n",
    "print(\"\\nrlcontroller_errors(cm): \", m1_tracking_errors['rlcontroller_errors(cm)'].mean())\n",
    "print(\"headset_errors(cm): \",m1_tracking_errors['headset_errors(cm)'].mean())\n",
    "print(\"headset_errors(deg): \",abs(m1_tracking_errors['headset_errors(deg)']).mean())\n",
    "\n",
    "import math\n",
    "failure = np.where(m1_tracking_errors['rlcontroller_errors(cm)'] > 0.20)[0].shape[0]\n",
    "total_frame = m1_tracking_errors.shape[0]\n",
    "print(\"\\nsuccess ratio: \", (total_frame - failure)/total_frame)"
   ]
  },
  {
   "cell_type": "markdown",
   "id": "7b5b24fe",
   "metadata": {},
   "source": [
    "## 4-2. Tracking_errors (0.3, 0.2)"
   ]
  },
  {
   "cell_type": "code",
   "execution_count": 22,
   "id": "0d94a05c",
   "metadata": {},
   "outputs": [
    {
     "name": "stdout",
     "output_type": "stream",
     "text": [
      "(447, 4)\n",
      "(447, 3)\n",
      "     rlcontroller_errors(cm)  headset_errors(cm)  headset_errors(deg)\n",
      "0                   0.650148            0.086471             4.011096\n",
      "1                   0.563703            0.149253            12.140430\n",
      "2                   0.387264            0.106350            10.963527\n",
      "3                   0.266131            0.045035             6.774293\n",
      "4                   0.245074            0.029043             5.529268\n",
      "..                       ...                 ...                  ...\n",
      "442                 0.052622            0.015456             3.776059\n",
      "443                 0.051628            0.012684             4.903522\n",
      "444                 0.050531            0.015005             6.302642\n",
      "445                 0.053993            0.018627             7.546297\n",
      "446                 0.064494            0.020023             7.761105\n",
      "\n",
      "[447 rows x 3 columns]\n",
      "\n",
      "sparse_sensor_reward:  0.8399395324639826\n",
      "direction_reward:  0.8757717574736149\n",
      "\n",
      "rlcontroller_errors(cm):  0.06876945077239534\n",
      "headset_errors(cm):  0.03526791973118681\n",
      "headset_errors(deg):  9.573613176676517\n",
      "\n",
      "success ratio:  0.9686800894854586\n"
     ]
    }
   ],
   "source": [
    "# 1125_punch_REAL+MIX0302\n",
    "m2_ckpt_dir = \"1125_punch_REAL+MIX0302\"\n",
    "m2_eval_dir = \"/eval/TEST/\"\n",
    "trial = \"trial\" + str(count)\n",
    "m2_reward = np.load(m2_ckpt_dir + m2_eval_dir + trial + \"_avg_reward.npy\", allow_pickle=True)\n",
    "m2_tracking_errors = np.load(m2_ckpt_dir + m2_eval_dir + trial + \"_tracking_errors.npy\", allow_pickle=True)\n",
    "print(m2_reward.shape)\n",
    "print(m2_tracking_errors.shape)\n",
    "\n",
    "m2_tracking_errors = pd.DataFrame(data=m2_tracking_errors)\n",
    "m2_tracking_errors.columns=[\"rlcontroller_errors(cm)\", \"headset_errors(cm)\", \"headset_errors(deg)\"]\n",
    "print(m2_tracking_errors)\n",
    "\n",
    "\n",
    "m2_reward = pd.DataFrame(data=m2_reward)\n",
    "m2_reward.columns=[\"upper_disc\", \"lower_disc\", \"sparse_sensor_reward\", \"direction_reward\"]\n",
    "print(\"\\nsparse_sensor_reward: \", m2_reward['sparse_sensor_reward'].mean())\n",
    "print(\"direction_reward: \", m2_reward['direction_reward'].mean())\n",
    "\n",
    "\n",
    "print(\"\\nrlcontroller_errors(cm): \", m2_tracking_errors['rlcontroller_errors(cm)'].mean())\n",
    "print(\"headset_errors(cm): \",m2_tracking_errors['headset_errors(cm)'].mean())\n",
    "print(\"headset_errors(deg): \",abs(m2_tracking_errors['headset_errors(deg)']).mean())\n",
    "\n",
    "import math\n",
    "failure = np.where(m2_tracking_errors['rlcontroller_errors(cm)'] >  0.20)[0].shape[0]\n",
    "total_frame = m2_tracking_errors.shape[0]\n",
    "print(\"\\nsuccess ratio: \", (total_frame - failure)/total_frame)"
   ]
  },
  {
   "cell_type": "markdown",
   "id": "268472af",
   "metadata": {},
   "source": [
    "## 4-3. Tracking_errors (0.25, 0.25)"
   ]
  },
  {
   "cell_type": "code",
   "execution_count": 23,
   "id": "1619536e",
   "metadata": {},
   "outputs": [
    {
     "name": "stdout",
     "output_type": "stream",
     "text": [
      "(447, 4)\n",
      "(447, 3)\n",
      "     rlcontroller_errors(cm)  headset_errors(cm)  headset_errors(deg)\n",
      "0                   0.568334            0.138937            16.876348\n",
      "1                   0.396727            0.145953            19.107073\n",
      "2                   0.333471            0.141090            19.775909\n",
      "3                   0.311393            0.106237            17.203032\n",
      "4                   0.285705            0.070658            13.847413\n",
      "..                       ...                 ...                  ...\n",
      "442                 0.060056            0.026684             5.516082\n",
      "443                 0.060475            0.021134             6.206994\n",
      "444                 0.062390            0.015612             6.069215\n",
      "445                 0.065739            0.015498             6.169411\n",
      "446                 0.063290            0.012286             5.088596\n",
      "\n",
      "[447 rows x 3 columns]\n",
      "\n",
      "sparse_sensor_reward:  0.8300768215650947\n",
      "direction_reward:  0.9439354654926582\n",
      "\n",
      "rlcontroller_errors(cm):  0.0741084085264862\n",
      "headset_errors(cm):  0.03962694572428579\n",
      "headset_errors(deg):  8.691327555067588\n",
      "\n",
      "success ratio:  0.959731543624161\n"
     ]
    }
   ],
   "source": [
    "# 1125_punch_REAL+MIX025025\n",
    "m3_ckpt_dir = \"1125_punch_REAL+MIX025025\"\n",
    "m3_eval_dir = \"/eval/TEST/\"\n",
    "trial = \"trial\" + str(count)\n",
    "m3_reward = np.load(m3_ckpt_dir + m3_eval_dir + trial + \"_avg_reward.npy\", allow_pickle=True)\n",
    "m3_tracking_errors = np.load(m3_ckpt_dir + m3_eval_dir + trial + \"_tracking_errors.npy\", allow_pickle=True)\n",
    "print(m3_reward.shape)\n",
    "print(m3_tracking_errors.shape)\n",
    "\n",
    "\n",
    "m3_tracking_errors = pd.DataFrame(data=m3_tracking_errors)\n",
    "m3_tracking_errors.columns=[\"rlcontroller_errors(cm)\", \"headset_errors(cm)\", \"headset_errors(deg)\"]\n",
    "print(m3_tracking_errors)\n",
    "\n",
    "\n",
    "m3_reward = pd.DataFrame(data=m3_reward)\n",
    "m3_reward.columns=[\"upper_disc\", \"lower_disc\", \"sparse_sensor_reward\", \"direction_reward\"]\n",
    "print(\"\\nsparse_sensor_reward: \", m3_reward['sparse_sensor_reward'].mean())\n",
    "print(\"direction_reward: \", m3_reward['direction_reward'].mean())\n",
    "\n",
    "\n",
    "\n",
    "print(\"\\nrlcontroller_errors(cm): \", m3_tracking_errors['rlcontroller_errors(cm)'].mean())\n",
    "print(\"headset_errors(cm): \",m3_tracking_errors['headset_errors(cm)'].mean())\n",
    "print(\"headset_errors(deg): \",abs(m3_tracking_errors['headset_errors(deg)']).mean())\n",
    "\n",
    "import math\n",
    "failure = np.where(m3_tracking_errors['rlcontroller_errors(cm)'] >  0.20)[0].shape[0]\n",
    "total_frame = m3_tracking_errors.shape[0]\n",
    "print(\"\\nsuccess ratio: \", (total_frame - failure)/total_frame)"
   ]
  },
  {
   "cell_type": "markdown",
   "id": "404c500c",
   "metadata": {},
   "source": [
    "## 4-4. Tracking_errors (0.2, 0.3)"
   ]
  },
  {
   "cell_type": "code",
   "execution_count": 24,
   "id": "59b5d726",
   "metadata": {},
   "outputs": [
    {
     "name": "stdout",
     "output_type": "stream",
     "text": [
      "(447, 4)\n",
      "(447, 3)\n",
      "     rlcontroller_errors(cm)  headset_errors(cm)  headset_errors(deg)\n",
      "0                   0.532791            0.049904             6.079527\n",
      "1                   0.354609            0.069903             6.240713\n",
      "2                   0.216288            0.040511             7.220638\n",
      "3                   0.185271            0.054380            11.882968\n",
      "4                   0.179697            0.069444            15.442110\n",
      "..                       ...                 ...                  ...\n",
      "442                 0.163745            0.022477            23.256880\n",
      "443                 0.164510            0.014543            20.377476\n",
      "444                 0.167562            0.010202            17.754251\n",
      "445                 0.172215            0.008944            16.354427\n",
      "446                 0.180378            0.013806            16.358795\n",
      "\n",
      "[447 rows x 3 columns]\n",
      "\n",
      "sparse_sensor_reward:  0.6019303935352854\n",
      "direction_reward:  0.7944910124410985\n",
      "0.22886928695960332\n",
      "0.06691851841715026\n",
      "26.22820394311175\n",
      "\n",
      "success ratio:  0.4519015659955257\n"
     ]
    }
   ],
   "source": [
    "# 1125_punch_REAL+MIX0203\n",
    "m4_ckpt_dir = \"1125_punch_REAL+MIX0203\"\n",
    "m4_eval_dir = \"/eval/TEST/\"\n",
    "trial = \"trial\" + str(count)\n",
    "m4_reward = np.load(m4_ckpt_dir + m4_eval_dir + trial + \"_avg_reward.npy\", allow_pickle=True)\n",
    "m4_tracking_errors = np.load(m4_ckpt_dir + m4_eval_dir + trial + \"_tracking_errors.npy\", allow_pickle=True)\n",
    "print(m4_reward.shape)\n",
    "print(m4_tracking_errors.shape)\n",
    "\n",
    "\n",
    "\n",
    "\n",
    "m4_tracking_errors = pd.DataFrame(data=m4_tracking_errors)\n",
    "m4_tracking_errors.columns=[\"rlcontroller_errors(cm)\", \"headset_errors(cm)\", \"headset_errors(deg)\"]\n",
    "print(m4_tracking_errors)\n",
    "\n",
    "m4_reward = pd.DataFrame(data=m4_reward)\n",
    "m4_reward.columns=[\"upper_disc\", \"lower_disc\", \"sparse_sensor_reward\", \"direction_reward\"]\n",
    "print(\"\\nsparse_sensor_reward: \", m4_reward['sparse_sensor_reward'].mean())\n",
    "print(\"direction_reward: \", m4_reward['direction_reward'].mean())\n",
    "\n",
    "print(m4_tracking_errors['rlcontroller_errors(cm)'].mean())\n",
    "print(m4_tracking_errors['headset_errors(cm)'].mean())\n",
    "print(abs(m4_tracking_errors['headset_errors(deg)']).mean())\n",
    "\n",
    "\n",
    "import math\n",
    "failure = np.where(m4_tracking_errors['rlcontroller_errors(cm)'] > 0.20)[0].shape[0]\n",
    "total_frame = m4_tracking_errors.shape[0]\n",
    "print(\"\\nsuccess ratio: \", (total_frame - failure)/total_frame)"
   ]
  },
  {
   "cell_type": "code",
   "execution_count": null,
   "id": "8789110f",
   "metadata": {},
   "outputs": [],
   "source": []
  },
  {
   "cell_type": "code",
   "execution_count": null,
   "id": "eb4bb1ba",
   "metadata": {},
   "outputs": [],
   "source": []
  },
  {
   "cell_type": "code",
   "execution_count": null,
   "id": "4af8fe16",
   "metadata": {},
   "outputs": [],
   "source": []
  }
 ],
 "metadata": {
  "kernelspec": {
   "display_name": "Python 3 (ipykernel)",
   "language": "python",
   "name": "python3"
  },
  "language_info": {
   "codemirror_mode": {
    "name": "ipython",
    "version": 3
   },
   "file_extension": ".py",
   "mimetype": "text/x-python",
   "name": "python",
   "nbconvert_exporter": "python",
   "pygments_lexer": "ipython3",
   "version": "3.11.3"
  }
 },
 "nbformat": 4,
 "nbformat_minor": 5
}
