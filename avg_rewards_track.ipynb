{
 "cells": [
  {
   "cell_type": "code",
   "execution_count": 1,
   "id": "f4332476",
   "metadata": {},
   "outputs": [],
   "source": [
    "import numpy as np\n",
    "import pandas as pd"
   ]
  },
  {
   "cell_type": "markdown",
   "id": "758f4dfb",
   "metadata": {},
   "source": [
    "### 1. 1024_punch_MIX+REAL_resume18000"
   ]
  },
  {
   "cell_type": "code",
   "execution_count": 48,
   "id": "800eebb5",
   "metadata": {},
   "outputs": [
    {
     "name": "stdout",
     "output_type": "stream",
     "text": [
      "(300, 4)\n",
      "(300, 3)\n"
     ]
    }
   ],
   "source": [
    "# 1024_punch_MIX+REAL_resume18000\n",
    "mu_ckpt_dir = \"1024_punch_MIX+REAL_resume18000\"\n",
    "mu_eval_dir = \"/eval/\"\n",
    "count = 0\n",
    "trial = \"trial\" + str(count)\n",
    "mu_reward = np.load(mu_ckpt_dir + mu_eval_dir + trial + \"_avg_reward.npy\", allow_pickle=True)\n",
    "mu_tracking_errors = np.load(mu_ckpt_dir + mu_eval_dir + trial + \"_tracking_errors.npy\", allow_pickle=True)\n",
    "print(mu_reward.shape)\n",
    "print(mu_tracking_errors.shape)"
   ]
  },
  {
   "cell_type": "markdown",
   "id": "c268a601",
   "metadata": {},
   "source": [
    "## 1-1. rewards"
   ]
  },
  {
   "cell_type": "code",
   "execution_count": 49,
   "id": "56939cca",
   "metadata": {},
   "outputs": [
    {
     "data": {
      "text/html": [
       "<div>\n",
       "<style scoped>\n",
       "    .dataframe tbody tr th:only-of-type {\n",
       "        vertical-align: middle;\n",
       "    }\n",
       "\n",
       "    .dataframe tbody tr th {\n",
       "        vertical-align: top;\n",
       "    }\n",
       "\n",
       "    .dataframe thead th {\n",
       "        text-align: right;\n",
       "    }\n",
       "</style>\n",
       "<table border=\"1\" class=\"dataframe\">\n",
       "  <thead>\n",
       "    <tr style=\"text-align: right;\">\n",
       "      <th></th>\n",
       "      <th>upper_disc</th>\n",
       "      <th>lower_disc</th>\n",
       "      <th>sparse_sensor_reward</th>\n",
       "      <th>direction_reward</th>\n",
       "    </tr>\n",
       "  </thead>\n",
       "  <tbody>\n",
       "    <tr>\n",
       "      <th>0</th>\n",
       "      <td>-0.410288</td>\n",
       "      <td>0.285465</td>\n",
       "      <td>0.288487</td>\n",
       "      <td>0.629275</td>\n",
       "    </tr>\n",
       "    <tr>\n",
       "      <th>1</th>\n",
       "      <td>-0.173806</td>\n",
       "      <td>0.366275</td>\n",
       "      <td>0.289864</td>\n",
       "      <td>0.622792</td>\n",
       "    </tr>\n",
       "    <tr>\n",
       "      <th>2</th>\n",
       "      <td>-0.155160</td>\n",
       "      <td>0.436365</td>\n",
       "      <td>0.402880</td>\n",
       "      <td>0.000000</td>\n",
       "    </tr>\n",
       "    <tr>\n",
       "      <th>3</th>\n",
       "      <td>-0.129887</td>\n",
       "      <td>0.466188</td>\n",
       "      <td>0.614734</td>\n",
       "      <td>0.000000</td>\n",
       "    </tr>\n",
       "    <tr>\n",
       "      <th>4</th>\n",
       "      <td>-0.098238</td>\n",
       "      <td>0.417768</td>\n",
       "      <td>0.733067</td>\n",
       "      <td>0.554229</td>\n",
       "    </tr>\n",
       "    <tr>\n",
       "      <th>...</th>\n",
       "      <td>...</td>\n",
       "      <td>...</td>\n",
       "      <td>...</td>\n",
       "      <td>...</td>\n",
       "    </tr>\n",
       "    <tr>\n",
       "      <th>295</th>\n",
       "      <td>-0.033858</td>\n",
       "      <td>0.465465</td>\n",
       "      <td>0.802285</td>\n",
       "      <td>0.933897</td>\n",
       "    </tr>\n",
       "    <tr>\n",
       "      <th>296</th>\n",
       "      <td>-0.033802</td>\n",
       "      <td>0.479131</td>\n",
       "      <td>0.778466</td>\n",
       "      <td>0.927424</td>\n",
       "    </tr>\n",
       "    <tr>\n",
       "      <th>297</th>\n",
       "      <td>-0.024994</td>\n",
       "      <td>0.489009</td>\n",
       "      <td>0.763269</td>\n",
       "      <td>0.924124</td>\n",
       "    </tr>\n",
       "    <tr>\n",
       "      <th>298</th>\n",
       "      <td>-0.008988</td>\n",
       "      <td>0.485378</td>\n",
       "      <td>0.755508</td>\n",
       "      <td>0.926304</td>\n",
       "    </tr>\n",
       "    <tr>\n",
       "      <th>299</th>\n",
       "      <td>0.006529</td>\n",
       "      <td>0.473076</td>\n",
       "      <td>0.753043</td>\n",
       "      <td>0.926849</td>\n",
       "    </tr>\n",
       "  </tbody>\n",
       "</table>\n",
       "<p>300 rows × 4 columns</p>\n",
       "</div>"
      ],
      "text/plain": [
       "     upper_disc  lower_disc  sparse_sensor_reward  direction_reward\n",
       "0     -0.410288    0.285465              0.288487          0.629275\n",
       "1     -0.173806    0.366275              0.289864          0.622792\n",
       "2     -0.155160    0.436365              0.402880          0.000000\n",
       "3     -0.129887    0.466188              0.614734          0.000000\n",
       "4     -0.098238    0.417768              0.733067          0.554229\n",
       "..          ...         ...                   ...               ...\n",
       "295   -0.033858    0.465465              0.802285          0.933897\n",
       "296   -0.033802    0.479131              0.778466          0.927424\n",
       "297   -0.024994    0.489009              0.763269          0.924124\n",
       "298   -0.008988    0.485378              0.755508          0.926304\n",
       "299    0.006529    0.473076              0.753043          0.926849\n",
       "\n",
       "[300 rows x 4 columns]"
      ]
     },
     "execution_count": 49,
     "metadata": {},
     "output_type": "execute_result"
    }
   ],
   "source": [
    "mu_rewards = pd.DataFrame(data=mu_reward)\n",
    "mu_rewards.columns=[\"upper_disc\", \"lower_disc\", \"sparse_sensor_reward\", \"direction_reward\"]\n",
    "mu_rewards"
   ]
  },
  {
   "cell_type": "code",
   "execution_count": 50,
   "id": "724598f5",
   "metadata": {},
   "outputs": [
    {
     "name": "stdout",
     "output_type": "stream",
     "text": [
      "0.7937760823965072\n",
      "0.8551636778004468\n",
      "-0.013152255858294666\n",
      "0.4548757839202881\n"
     ]
    }
   ],
   "source": [
    "print(mu_rewards['sparse_sensor_reward'].mean())\n",
    "print(mu_rewards['direction_reward'].mean())\n",
    "print(mu_rewards['upper_disc'].mean())\n",
    "print(mu_rewards['lower_disc'].mean())"
   ]
  },
  {
   "cell_type": "markdown",
   "id": "d8e53aef",
   "metadata": {},
   "source": [
    "## 1-2. tracking_errors"
   ]
  },
  {
   "cell_type": "code",
   "execution_count": 51,
   "id": "05e342a5",
   "metadata": {},
   "outputs": [
    {
     "data": {
      "text/html": [
       "<div>\n",
       "<style scoped>\n",
       "    .dataframe tbody tr th:only-of-type {\n",
       "        vertical-align: middle;\n",
       "    }\n",
       "\n",
       "    .dataframe tbody tr th {\n",
       "        vertical-align: top;\n",
       "    }\n",
       "\n",
       "    .dataframe thead th {\n",
       "        text-align: right;\n",
       "    }\n",
       "</style>\n",
       "<table border=\"1\" class=\"dataframe\">\n",
       "  <thead>\n",
       "    <tr style=\"text-align: right;\">\n",
       "      <th></th>\n",
       "      <th>rlcontroller_errors(cm)</th>\n",
       "      <th>headset_errors(cm)</th>\n",
       "      <th>headset_errors(deg)</th>\n",
       "    </tr>\n",
       "  </thead>\n",
       "  <tbody>\n",
       "    <tr>\n",
       "      <th>0</th>\n",
       "      <td>0.192348</td>\n",
       "      <td>0.701550</td>\n",
       "      <td>0.135335</td>\n",
       "    </tr>\n",
       "    <tr>\n",
       "      <th>1</th>\n",
       "      <td>0.211112</td>\n",
       "      <td>0.642757</td>\n",
       "      <td>0.135335</td>\n",
       "    </tr>\n",
       "    <tr>\n",
       "      <th>2</th>\n",
       "      <td>0.333614</td>\n",
       "      <td>0.779084</td>\n",
       "      <td>0.135335</td>\n",
       "    </tr>\n",
       "    <tr>\n",
       "      <th>3</th>\n",
       "      <td>0.597195</td>\n",
       "      <td>0.915819</td>\n",
       "      <td>0.135335</td>\n",
       "    </tr>\n",
       "    <tr>\n",
       "      <th>4</th>\n",
       "      <td>0.770604</td>\n",
       "      <td>0.900555</td>\n",
       "      <td>0.135335</td>\n",
       "    </tr>\n",
       "    <tr>\n",
       "      <th>...</th>\n",
       "      <td>...</td>\n",
       "      <td>...</td>\n",
       "      <td>...</td>\n",
       "    </tr>\n",
       "    <tr>\n",
       "      <th>295</th>\n",
       "      <td>0.906712</td>\n",
       "      <td>0.770267</td>\n",
       "      <td>0.135335</td>\n",
       "    </tr>\n",
       "    <tr>\n",
       "      <th>296</th>\n",
       "      <td>0.868976</td>\n",
       "      <td>0.783243</td>\n",
       "      <td>0.135335</td>\n",
       "    </tr>\n",
       "    <tr>\n",
       "      <th>297</th>\n",
       "      <td>0.846568</td>\n",
       "      <td>0.785690</td>\n",
       "      <td>0.135335</td>\n",
       "    </tr>\n",
       "    <tr>\n",
       "      <th>298</th>\n",
       "      <td>0.832478</td>\n",
       "      <td>0.796199</td>\n",
       "      <td>0.135335</td>\n",
       "    </tr>\n",
       "    <tr>\n",
       "      <th>299</th>\n",
       "      <td>0.826942</td>\n",
       "      <td>0.803252</td>\n",
       "      <td>0.135335</td>\n",
       "    </tr>\n",
       "  </tbody>\n",
       "</table>\n",
       "<p>300 rows × 3 columns</p>\n",
       "</div>"
      ],
      "text/plain": [
       "     rlcontroller_errors(cm)  headset_errors(cm)  headset_errors(deg)\n",
       "0                   0.192348            0.701550             0.135335\n",
       "1                   0.211112            0.642757             0.135335\n",
       "2                   0.333614            0.779084             0.135335\n",
       "3                   0.597195            0.915819             0.135335\n",
       "4                   0.770604            0.900555             0.135335\n",
       "..                       ...                 ...                  ...\n",
       "295                 0.906712            0.770267             0.135335\n",
       "296                 0.868976            0.783243             0.135335\n",
       "297                 0.846568            0.785690             0.135335\n",
       "298                 0.832478            0.796199             0.135335\n",
       "299                 0.826942            0.803252             0.135335\n",
       "\n",
       "[300 rows x 3 columns]"
      ]
     },
     "execution_count": 51,
     "metadata": {},
     "output_type": "execute_result"
    }
   ],
   "source": [
    "mu_tracking_errors = pd.DataFrame(data=mu_tracking_errors)\n",
    "mu_tracking_errors.columns=[\"rlcontroller_errors(cm)\", \"headset_errors(cm)\", \"headset_errors(deg)\"]\n",
    "mu_tracking_errors"
   ]
  },
  {
   "cell_type": "code",
   "execution_count": 52,
   "id": "3c3c1f25",
   "metadata": {},
   "outputs": [
    {
     "name": "stdout",
     "output_type": "stream",
     "text": [
      "0.8674309874574343\n",
      "0.8652043002843857\n",
      "0.1353352899849415\n"
     ]
    }
   ],
   "source": [
    "print(mu_tracking_errors['rlcontroller_errors(cm)'].mean())\n",
    "print(mu_tracking_errors['headset_errors(cm)'].mean())\n",
    "print(mu_tracking_errors['headset_errors(deg)'].mean())"
   ]
  },
  {
   "cell_type": "markdown",
   "id": "b9445251",
   "metadata": {},
   "source": [
    "# 2. 1024_punch_MIX"
   ]
  },
  {
   "cell_type": "code",
   "execution_count": 53,
   "id": "9957bbe9",
   "metadata": {},
   "outputs": [
    {
     "name": "stdout",
     "output_type": "stream",
     "text": [
      "(300, 4)\n",
      "(300, 3)\n"
     ]
    }
   ],
   "source": [
    "# 1024_punch_MIX\n",
    "m_ckpt_dir = \"1024_punch_MIX\"\n",
    "m_eval_dir = \"/eval/\"\n",
    "count = 0\n",
    "trial = \"trial\" + str(count)\n",
    "m_reward = np.load(m_ckpt_dir + m_eval_dir + trial + \"_avg_reward.npy\", allow_pickle=True)\n",
    "m_tracking_errors = np.load(m_ckpt_dir + m_eval_dir + trial + \"_tracking_errors.npy\", allow_pickle=True)\n",
    "print(m_reward.shape)\n",
    "print(m_tracking_errors.shape)"
   ]
  },
  {
   "cell_type": "code",
   "execution_count": 56,
   "id": "7a4d50c7",
   "metadata": {},
   "outputs": [
    {
     "data": {
      "text/html": [
       "<div>\n",
       "<style scoped>\n",
       "    .dataframe tbody tr th:only-of-type {\n",
       "        vertical-align: middle;\n",
       "    }\n",
       "\n",
       "    .dataframe tbody tr th {\n",
       "        vertical-align: top;\n",
       "    }\n",
       "\n",
       "    .dataframe thead th {\n",
       "        text-align: right;\n",
       "    }\n",
       "</style>\n",
       "<table border=\"1\" class=\"dataframe\">\n",
       "  <thead>\n",
       "    <tr style=\"text-align: right;\">\n",
       "      <th></th>\n",
       "      <th>upper_disc</th>\n",
       "      <th>lower_disc</th>\n",
       "      <th>sparse_sensor_reward</th>\n",
       "      <th>direction_reward</th>\n",
       "    </tr>\n",
       "  </thead>\n",
       "  <tbody>\n",
       "    <tr>\n",
       "      <th>0</th>\n",
       "      <td>-0.271879</td>\n",
       "      <td>0.267185</td>\n",
       "      <td>0.283729</td>\n",
       "      <td>0.590683</td>\n",
       "    </tr>\n",
       "    <tr>\n",
       "      <th>1</th>\n",
       "      <td>-0.263891</td>\n",
       "      <td>0.359464</td>\n",
       "      <td>0.307260</td>\n",
       "      <td>0.597320</td>\n",
       "    </tr>\n",
       "    <tr>\n",
       "      <th>2</th>\n",
       "      <td>-0.154928</td>\n",
       "      <td>0.435737</td>\n",
       "      <td>0.466310</td>\n",
       "      <td>0.000000</td>\n",
       "    </tr>\n",
       "    <tr>\n",
       "      <th>3</th>\n",
       "      <td>-0.088546</td>\n",
       "      <td>0.498732</td>\n",
       "      <td>0.640941</td>\n",
       "      <td>0.000000</td>\n",
       "    </tr>\n",
       "    <tr>\n",
       "      <th>4</th>\n",
       "      <td>0.027698</td>\n",
       "      <td>0.464147</td>\n",
       "      <td>0.669381</td>\n",
       "      <td>0.000000</td>\n",
       "    </tr>\n",
       "    <tr>\n",
       "      <th>...</th>\n",
       "      <td>...</td>\n",
       "      <td>...</td>\n",
       "      <td>...</td>\n",
       "      <td>...</td>\n",
       "    </tr>\n",
       "    <tr>\n",
       "      <th>295</th>\n",
       "      <td>0.157144</td>\n",
       "      <td>0.432700</td>\n",
       "      <td>0.552075</td>\n",
       "      <td>0.881051</td>\n",
       "    </tr>\n",
       "    <tr>\n",
       "      <th>296</th>\n",
       "      <td>0.141267</td>\n",
       "      <td>0.430726</td>\n",
       "      <td>0.552588</td>\n",
       "      <td>0.893618</td>\n",
       "    </tr>\n",
       "    <tr>\n",
       "      <th>297</th>\n",
       "      <td>0.130595</td>\n",
       "      <td>0.423874</td>\n",
       "      <td>0.556862</td>\n",
       "      <td>0.912629</td>\n",
       "    </tr>\n",
       "    <tr>\n",
       "      <th>298</th>\n",
       "      <td>0.083718</td>\n",
       "      <td>0.418021</td>\n",
       "      <td>0.565550</td>\n",
       "      <td>0.924810</td>\n",
       "    </tr>\n",
       "    <tr>\n",
       "      <th>299</th>\n",
       "      <td>0.105168</td>\n",
       "      <td>0.416820</td>\n",
       "      <td>0.575085</td>\n",
       "      <td>0.931134</td>\n",
       "    </tr>\n",
       "  </tbody>\n",
       "</table>\n",
       "<p>300 rows × 4 columns</p>\n",
       "</div>"
      ],
      "text/plain": [
       "     upper_disc  lower_disc  sparse_sensor_reward  direction_reward\n",
       "0     -0.271879    0.267185              0.283729          0.590683\n",
       "1     -0.263891    0.359464              0.307260          0.597320\n",
       "2     -0.154928    0.435737              0.466310          0.000000\n",
       "3     -0.088546    0.498732              0.640941          0.000000\n",
       "4      0.027698    0.464147              0.669381          0.000000\n",
       "..          ...         ...                   ...               ...\n",
       "295    0.157144    0.432700              0.552075          0.881051\n",
       "296    0.141267    0.430726              0.552588          0.893618\n",
       "297    0.130595    0.423874              0.556862          0.912629\n",
       "298    0.083718    0.418021              0.565550          0.924810\n",
       "299    0.105168    0.416820              0.575085          0.931134\n",
       "\n",
       "[300 rows x 4 columns]"
      ]
     },
     "execution_count": 56,
     "metadata": {},
     "output_type": "execute_result"
    }
   ],
   "source": [
    "m_reward = pd.DataFrame(data=m_reward)\n",
    "m_reward.columns=[\"upper_disc\", \"lower_disc\", \"sparse_sensor_reward\", \"direction_reward\"]\n",
    "m_reward"
   ]
  },
  {
   "cell_type": "markdown",
   "id": "c54c7ebb",
   "metadata": {},
   "source": [
    "## 2-1. rewards"
   ]
  },
  {
   "cell_type": "code",
   "execution_count": 57,
   "id": "eb107df3",
   "metadata": {},
   "outputs": [
    {
     "name": "stdout",
     "output_type": "stream",
     "text": [
      "0.6716236890355746\n",
      "0.7799767869710922\n",
      "0.14942576654876272\n",
      "0.4281487845381101\n"
     ]
    }
   ],
   "source": [
    "print(m_reward['sparse_sensor_reward'].mean())\n",
    "print(m_reward['direction_reward'].mean())\n",
    "print(m_reward['upper_disc'].mean())\n",
    "print(m_reward['lower_disc'].mean())"
   ]
  },
  {
   "cell_type": "markdown",
   "id": "d966ddb7",
   "metadata": {},
   "source": [
    "## 2-2. tracking_errors"
   ]
  },
  {
   "cell_type": "code",
   "execution_count": 59,
   "id": "17a6b56f",
   "metadata": {},
   "outputs": [
    {
     "data": {
      "text/html": [
       "<div>\n",
       "<style scoped>\n",
       "    .dataframe tbody tr th:only-of-type {\n",
       "        vertical-align: middle;\n",
       "    }\n",
       "\n",
       "    .dataframe tbody tr th {\n",
       "        vertical-align: top;\n",
       "    }\n",
       "\n",
       "    .dataframe thead th {\n",
       "        text-align: right;\n",
       "    }\n",
       "</style>\n",
       "<table border=\"1\" class=\"dataframe\">\n",
       "  <thead>\n",
       "    <tr style=\"text-align: right;\">\n",
       "      <th></th>\n",
       "      <th>rlcontroller_errors(cm)</th>\n",
       "      <th>headset_errors(cm)</th>\n",
       "      <th>headset_errors(deg)</th>\n",
       "    </tr>\n",
       "  </thead>\n",
       "  <tbody>\n",
       "    <tr>\n",
       "      <th>0</th>\n",
       "      <td>0.206846</td>\n",
       "      <td>0.627018</td>\n",
       "      <td>0.135335</td>\n",
       "    </tr>\n",
       "    <tr>\n",
       "      <th>1</th>\n",
       "      <td>0.264524</td>\n",
       "      <td>0.542796</td>\n",
       "      <td>0.135335</td>\n",
       "    </tr>\n",
       "    <tr>\n",
       "      <th>2</th>\n",
       "      <td>0.455808</td>\n",
       "      <td>0.668554</td>\n",
       "      <td>0.135335</td>\n",
       "    </tr>\n",
       "    <tr>\n",
       "      <th>3</th>\n",
       "      <td>0.667178</td>\n",
       "      <td>0.801915</td>\n",
       "      <td>0.135335</td>\n",
       "    </tr>\n",
       "    <tr>\n",
       "      <th>4</th>\n",
       "      <td>0.703419</td>\n",
       "      <td>0.817271</td>\n",
       "      <td>0.135335</td>\n",
       "    </tr>\n",
       "    <tr>\n",
       "      <th>...</th>\n",
       "      <td>...</td>\n",
       "      <td>...</td>\n",
       "      <td>...</td>\n",
       "    </tr>\n",
       "    <tr>\n",
       "      <th>295</th>\n",
       "      <td>0.582908</td>\n",
       "      <td>0.652529</td>\n",
       "      <td>0.135335</td>\n",
       "    </tr>\n",
       "    <tr>\n",
       "      <th>296</th>\n",
       "      <td>0.583824</td>\n",
       "      <td>0.651889</td>\n",
       "      <td>0.135335</td>\n",
       "    </tr>\n",
       "    <tr>\n",
       "      <th>297</th>\n",
       "      <td>0.588566</td>\n",
       "      <td>0.656658</td>\n",
       "      <td>0.135335</td>\n",
       "    </tr>\n",
       "    <tr>\n",
       "      <th>298</th>\n",
       "      <td>0.598998</td>\n",
       "      <td>0.663593</td>\n",
       "      <td>0.135335</td>\n",
       "    </tr>\n",
       "    <tr>\n",
       "      <th>299</th>\n",
       "      <td>0.611394</td>\n",
       "      <td>0.667877</td>\n",
       "      <td>0.135335</td>\n",
       "    </tr>\n",
       "  </tbody>\n",
       "</table>\n",
       "<p>300 rows × 3 columns</p>\n",
       "</div>"
      ],
      "text/plain": [
       "     rlcontroller_errors(cm)  headset_errors(cm)  headset_errors(deg)\n",
       "0                   0.206846            0.627018             0.135335\n",
       "1                   0.264524            0.542796             0.135335\n",
       "2                   0.455808            0.668554             0.135335\n",
       "3                   0.667178            0.801915             0.135335\n",
       "4                   0.703419            0.817271             0.135335\n",
       "..                       ...                 ...                  ...\n",
       "295                 0.582908            0.652529             0.135335\n",
       "296                 0.583824            0.651889             0.135335\n",
       "297                 0.588566            0.656658             0.135335\n",
       "298                 0.598998            0.663593             0.135335\n",
       "299                 0.611394            0.667877             0.135335\n",
       "\n",
       "[300 rows x 3 columns]"
      ]
     },
     "execution_count": 59,
     "metadata": {},
     "output_type": "execute_result"
    }
   ],
   "source": [
    "m_tracking_errors = pd.DataFrame(data=m_tracking_errors)\n",
    "m_tracking_errors.columns=[\"rlcontroller_errors(cm)\", \"headset_errors(cm)\", \"headset_errors(deg)\"]\n",
    "m_tracking_errors"
   ]
  },
  {
   "cell_type": "code",
   "execution_count": 60,
   "id": "3a4bad96",
   "metadata": {},
   "outputs": [
    {
     "name": "stdout",
     "output_type": "stream",
     "text": [
      "0.7030586287379265\n",
      "0.8297455996274948\n",
      "0.13533529023329416\n"
     ]
    }
   ],
   "source": [
    "print(m_tracking_errors['rlcontroller_errors(cm)'].mean())\n",
    "print(m_tracking_errors['headset_errors(cm)'].mean())\n",
    "print(m_tracking_errors['headset_errors(deg)'].mean())"
   ]
  },
  {
   "cell_type": "markdown",
   "id": "88ba1872",
   "metadata": {},
   "source": [
    "# 1024_punch_REAL"
   ]
  },
  {
   "cell_type": "code",
   "execution_count": 11,
   "id": "0d06fca6",
   "metadata": {},
   "outputs": [
    {
     "name": "stdout",
     "output_type": "stream",
     "text": [
      "(300, 4)\n",
      "     upper_disc  lower_disc  sparse_sensor_reward  direction_reward\n",
      "0     -0.421663    0.246880              0.306530          0.592842\n",
      "1     -0.087479    0.311209              0.365296          0.000000\n",
      "2     -0.098386    0.367120              0.554507          0.000000\n",
      "3     -0.084528    0.397896              0.717503          0.600666\n",
      "4     -0.005183    0.374344              0.756482          0.617320\n",
      "..          ...         ...                   ...               ...\n",
      "295    0.046938    0.335400              0.764207          0.924101\n",
      "296    0.048687    0.310856              0.778317          0.941511\n",
      "297    0.048619    0.296559              0.778635          0.954241\n",
      "298    0.048334    0.292531              0.779040          0.965750\n",
      "299    0.049818    0.297712              0.778399          0.971883\n",
      "\n",
      "[300 rows x 4 columns]\n"
     ]
    }
   ],
   "source": [
    "# 1024_punch_REAL\n",
    "reward = np.load(\"1024_punch_REAL/avg_reward_trial0.npy\", allow_pickle=True)\n",
    "print(reward.shape)\n",
    "rewards = pd.DataFrame(data=reward)\n",
    "rewards.columns=[\"upper_disc\", \"lower_disc\", \"sparse_sensor_reward\", \"direction_reward\"]\n",
    "print(rewards)"
   ]
  },
  {
   "cell_type": "code",
   "execution_count": 12,
   "id": "d636453e",
   "metadata": {},
   "outputs": [
    {
     "name": "stdout",
     "output_type": "stream",
     "text": [
      "0.7653540231784185\n",
      "0.48184540814720095\n",
      "0.030596952703781426\n",
      "0.3739568544427554\n"
     ]
    }
   ],
   "source": [
    "print(rewards['sparse_sensor_reward'].mean())\n",
    "print(rewards['direction_reward'].mean())\n",
    "print(rewards['upper_disc'].mean())\n",
    "print(rewards['lower_disc'].mean())"
   ]
  },
  {
   "cell_type": "markdown",
   "id": "3375cea8",
   "metadata": {},
   "source": [
    "# WITHOUT SPARSE SENSOR REWARDS"
   ]
  },
  {
   "cell_type": "code",
   "execution_count": null,
   "id": "1ec97996",
   "metadata": {},
   "outputs": [],
   "source": []
  }
 ],
 "metadata": {
  "kernelspec": {
   "display_name": "Python 3 (ipykernel)",
   "language": "python",
   "name": "python3"
  },
  "language_info": {
   "codemirror_mode": {
    "name": "ipython",
    "version": 3
   },
   "file_extension": ".py",
   "mimetype": "text/x-python",
   "name": "python",
   "nbconvert_exporter": "python",
   "pygments_lexer": "ipython3",
   "version": "3.11.3"
  }
 },
 "nbformat": 4,
 "nbformat_minor": 5
}
